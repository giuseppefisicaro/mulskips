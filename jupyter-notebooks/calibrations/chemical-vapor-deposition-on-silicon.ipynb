{
 "cells": [
  {
   "cell_type": "markdown",
   "metadata": {},
   "source": [
    "# Growth rates and calibration for 3C-SiC physical vapor deposition"
   ]
  },
  {
   "cell_type": "markdown",
   "metadata": {},
   "source": [
    "In the present notebook we implement the full workflow for the calibration of a Kinetic Monte Carlo (KMC) simulation of a physical vapor deposition (PVD) process for the epitaxial growth of cubic silicon carbide (3C-SiC). The workflow contains the following steps:\n",
    "\n",
    "1. Growth rate extimation from the experimental gas vapor pressures;\n",
    "\n",
    "2. Generation of the input file `start.dat` for the simulation of the PVD epitaxial growth with the KMC mulskips code;\n",
    "\n",
    "3. Run the mulskips simulation in a predefined folder;\n",
    "\n",
    "4. Analysis of crystalline quality of the epitaxial-growth substrate and the eventual epitaxial defects;\n",
    "\n",
    "5. Growth rate extraction from the KMC mulskips run."
   ]
  },
  {
   "cell_type": "markdown",
   "metadata": {},
   "source": [
    "## Growth rate extimation from the gas vapor pressures at the source and seed chamber regions"
   ]
  },
  {
   "cell_type": "code",
   "execution_count": 1,
   "metadata": {},
   "outputs": [],
   "source": [
    "import math\n",
    "import numpy as np\n",
    "import matplotlib.pyplot as plt\n",
    "import os,shutil,subprocess,sys\n",
    "import py3Dmol"
   ]
  },
  {
   "cell_type": "code",
   "execution_count": 2,
   "metadata": {},
   "outputs": [],
   "source": [
    "# Some constants related to the gas phase\n",
    "Rgas = 8.314462618       # Gas constant J/mol/K\n",
    "NA = 6.02214076e23       # Avogadro Number [mol^-1]\n",
    "kb_ev=8.617333262145e-5     # [eV/K]\n",
    "T_zero_kelvin = 273.15\n",
    "\n",
    "# Some constants related to the gas-phase molecules\n",
    "M_Si = 0.0280855 # [kg/mol]\n",
    "M_SiC =  0.0280855 + 0.0120107 # [kg/mol]\n",
    "M_Si2C = 2*0.0280855 + 0.0120107 # [kg/mol]\n",
    "M_SiC2 = 0.0280855 + 2*0.0120107 # [kg/mol]\n",
    "molecules = ['Si', 'Si2C', 'SiC2']\n",
    "mass = {'Si': M_Si, 'Si2C': M_Si2C, 'SiC2': M_SiC2}\n",
    "\n",
    "# Some constants related to the solid growing substrate\n",
    "rho_SiC = 3210 # kg/m^3\n",
    "a0 = pow(4*M_SiC/NA/rho_SiC,1.0/3.0) # [m] side of the cubic conventional cell of 3C-SiC containing four Si-C dimers\n",
    "rho_surf_SiC = rho_SiC * a0 # Kg/m^2"
   ]
  },
  {
   "cell_type": "code",
   "execution_count": 4,
   "metadata": {},
   "outputs": [],
   "source": [
    "# Experimental calibration for the vapor pressures above the cubic silicon carbide 3C-SiC\n",
    "data_names = ['avrov','lilov']\n",
    "\n",
    "# Avrov calibration\n",
    "A={'Si': -2.04e4, 'Si2C': -2.81e4, 'SiC2': -4.18e4}\n",
    "B={'Si': 10.82,  'Si2C': 13.28,  'SiC2': 18.18}\n",
    "\n",
    "# Lilov calibration\n",
    "A_1={'Si':-27499.8,'Si2C':-34177.2,'SiC2':-34075.8}      # Temperature range 1500-2000 [K]\n",
    "A_2={'Si':-27261.32,'Si2C':-33500.33,'SiC2':-33526.61}   # Temperature range 2000-2546 [K]\n",
    "B_1={'Si':12.8114,'Si2C':15.1877,'SiC2':15.4274}         # Temperature range 1500-2000 [K]\n",
    "B_2={'Si':12.6921,'Si2C':14.8493,'SiC2':15.1528}         # Temperature range 2000-2546 [K]"
   ]
  },
  {
   "cell_type": "code",
   "execution_count": 5,
   "metadata": {},
   "outputs": [],
   "source": [
    "# Some fundamental function to get vapor pressures and gas fluxes.\n",
    "def get_vapor_pressure(data_name,mol,temp):\n",
    "    # Vapor pressures following an Arrhenius-like behaviour.\n",
    "    # These are the related prefactors and exponential constants\n",
    "    # for the cubic SiC from the Avrov and Lilov works.\n",
    "    if data_name == 'avrov':\n",
    "        # Avrov et al. Journal of Crystal Growth 198/199 1011-1014 (1999)\n",
    "        # Avrov Arrhenius-like vapor pressures.\n",
    "        Pexp=math.exp(A[mol]/temp+B[mol]) # [N/m^2]\n",
    "    elif data_name == 'lilov':\n",
    "        # Lilov et al. Cryst. Res. Technol. 28(4) 503-510 (1993)\n",
    "        # Lilov  1 1500-2000 Arrhenius-like vapor pressures.\n",
    "        if 1500 <= temp <=2000:\n",
    "            Pexp=math.exp(A_1[mol]/temp+B_1[mol]) # [N/m^2]\n",
    "        # Lilov  2 2000-2546 Arrhenius-like vapor pressures.\n",
    "        elif 2000 < temp <=2546:\n",
    "            Pexp=math.exp(A_2[mol]/temp+B_2[mol]) # [N/m^2]\n",
    "        else:\n",
    "            print(\"error, temperature range not yet implemented.\")\n",
    "    else:\n",
    "        print(\"error, data_name wrong.\")\n",
    "    return Pexp\n",
    "\n",
    "def get_coeff(mol,temp):\n",
    "    coeff = pow(2.*math.pi*mass[mol]*Rgas*temp,-0.5)\n",
    "    return coeff\n",
    "\n",
    "def get_flux(data_name,mol,temp):\n",
    "    p_dep = get_vapor_pressure(data_name,mol,temp)   # Pascal\n",
    "    flux = p_dep * get_coeff(mol,temp) # mol/s/m^2 \n",
    "    return flux\n",
    "\n",
    "def get_fluxes(data_name,temp):\n",
    "    # This function give the <data> dictionary of \"Supersaturation SiC$_2$\", \"Supersaturation Si$_2$C\"\n",
    "    # and \"3C-SiC Growth rate [micron/hour]\" for the Avrov and Lilov calibration of the vapor pressuare within\n",
    "    # the growth chamber.\n",
    "    fluxes = {}\n",
    "    for mol in molecules:\n",
    "        fluxes[mol] = get_flux(data_name,mol,temp) # mol/s/m^2\n",
    "    return fluxes"
   ]
  },
  {
   "cell_type": "code",
   "execution_count": 6,
   "metadata": {},
   "outputs": [],
   "source": [
    "def get_data_avrov_lilov(Tsource,Tseed_center,Tseed_edge):\n",
    "    # This function give the <data> dictionary of \"Supersaturation SiC$_2$\", \"Supersaturation Si$_2$C\"\n",
    "    # and \"3C-SiC Growth rate [micron/hour]\" for the Avrov and Lilov calibration of the vapor pressuare within\n",
    "    # the growth chamber.\n",
    "    data = {}\n",
    "    for data_name in data_names:\n",
    "        Tval = np.linspace(Tseed_center, Tseed_edge, 10) # K Temperature list from the center to the wafer edge\n",
    "\n",
    "\n",
    "        p_dep = {}\n",
    "        loc_depflux = {}\n",
    "        for mol in molecules:\n",
    "            p_dep[mol] = get_vapor_pressure(data_name,mol,Tsource)   # Pascal\n",
    "            loc_depflux[mol] = get_flux(data_name,mol,Tsource) # mol/s/m^2\n",
    "\n",
    "        data_all = []\n",
    "        i=0\n",
    "        while i <= len(Tval)-1 :\n",
    "            \n",
    "            p_ev = {}\n",
    "            loc_evflux = {}\n",
    "            for mol in molecules:\n",
    "                p_ev[mol] = get_vapor_pressure(data_name,mol,Tval[i])   # Pascal\n",
    "                loc_evflux[mol] = get_flux(data_name,mol,Tval[i]) # mol/s/m^2\n",
    "\n",
    "            Gr_SiC = (loc_depflux['Si2C'] - loc_evflux['Si2C'] + 2.0*loc_depflux['SiC2'] - 2.0*loc_evflux['SiC2'])*M_SiC/rho_SiC     # m/s\n",
    "            Gr_SiC = Gr_SiC*1e6*3600     # micron/h\n",
    "            SupSi2C=(p_dep['Si2C'] - p_ev['Si2C'])/p_ev['Si2C']\n",
    "            SupSiC2=(p_dep['SiC2'] - p_ev['SiC2'])/p_ev['SiC2']\n",
    "            data_curr = {'Tval': Tval[i], 'SupSiC2': SupSiC2, 'SupSi2C': SupSi2C, 'Gr_SiC': Gr_SiC}\n",
    "            data_all.append(data_curr)\n",
    "            i+=1\n",
    "\n",
    "        data[data_name] = data_all\n",
    "        \n",
    "    return data"
   ]
  },
  {
   "cell_type": "code",
   "execution_count": 7,
   "metadata": {},
   "outputs": [],
   "source": [
    "def plot_lines(data,data_name):\n",
    "    plot_names = ['SupSiC2','SupSi2C','Gr_SiC']\n",
    "    data_to_plot = data[data_name]\n",
    "\n",
    "    temp_vect = []\n",
    "    for x in data_to_plot:\n",
    "        temp_vect.append(x['Tval'])\n",
    "\n",
    "    fig = plt.figure(figsize=(30,8.5))\n",
    "    plt.rcParams.update({'font.size':35})\n",
    "    plt.rcParams['axes.linewidth'] = 3.0\n",
    "\n",
    "    i=1\n",
    "    for name in plot_names:\n",
    "        vect = []\n",
    "        for x in data_to_plot:\n",
    "            vect.append(x[name])\n",
    "        ax1 = fig.add_subplot(1,len(plot_names),i)\n",
    "        plt.plot(temp_vect, vect)\n",
    "        plt.xlabel('Temperature [k]', size=20)\n",
    "        if name == 'SupSiC2':\n",
    "            plt.ylabel('Supersaturation SiC$_2$', size=20)\n",
    "        elif name == 'SupSi2C':\n",
    "            plt.ylabel('Supersaturation Si$_2$C', size=20)\n",
    "        elif name == 'Gr_SiC':\n",
    "            plt.ylabel('3C-SiC Growth rate [micron/hour]', size=20)\n",
    "        plt.xticks(fontsize=20)\n",
    "        plt.yticks(fontsize=20)\n",
    "        ax1.xaxis.set_major_locator(plt.MaxNLocator(3))\n",
    "        ax1.yaxis.set_major_locator(plt.MaxNLocator(3))\n",
    "        plt.tick_params(axis='x', direction=\"in\",   top=True, width=3, pad=10)\n",
    "        plt.tick_params(axis='y', direction=\"in\", right=True, width=3, pad=10)\n",
    "\n",
    "        i+=1\n",
    "        #plt.legend(loc=(0.46, 0.58))\n",
    "        #plt.savefig(name+'.pdf') \n",
    "    plt.show()"
   ]
  },
  {
   "cell_type": "code",
   "execution_count": 1,
   "metadata": {},
   "outputs": [
    {
     "ename": "NameError",
     "evalue": "name 'data_samples' is not defined",
     "output_type": "error",
     "traceback": [
      "\u001b[0;31m---------------------------------------------------------------------------\u001b[0m",
      "\u001b[0;31mNameError\u001b[0m                                 Traceback (most recent call last)",
      "\u001b[0;32m<ipython-input-1-3f73fbfe7577>\u001b[0m in \u001b[0;36m<module>\u001b[0;34m\u001b[0m\n\u001b[1;32m      2\u001b[0m \u001b[0mdelta_T\u001b[0m \u001b[0;34m=\u001b[0m \u001b[0;36m0.0\u001b[0m\u001b[0;34m\u001b[0m\u001b[0;34m\u001b[0m\u001b[0m\n\u001b[1;32m      3\u001b[0m \u001b[0;34m\u001b[0m\u001b[0m\n\u001b[0;32m----> 4\u001b[0;31m \u001b[0;32mfor\u001b[0m \u001b[0mkey\u001b[0m \u001b[0;32min\u001b[0m \u001b[0mdata_samples\u001b[0m\u001b[0;34m:\u001b[0m\u001b[0;34m\u001b[0m\u001b[0;34m\u001b[0m\u001b[0m\n\u001b[0m\u001b[1;32m      5\u001b[0m     \u001b[0mprint\u001b[0m\u001b[0;34m(\u001b[0m\u001b[0;34m'Process ID: {}'\u001b[0m\u001b[0;34m.\u001b[0m\u001b[0mformat\u001b[0m\u001b[0;34m(\u001b[0m\u001b[0mkey\u001b[0m\u001b[0;34m)\u001b[0m\u001b[0;34m)\u001b[0m\u001b[0;34m\u001b[0m\u001b[0;34m\u001b[0m\u001b[0m\n\u001b[1;32m      6\u001b[0m     \u001b[0mprint\u001b[0m\u001b[0;34m(\u001b[0m\u001b[0;34m'The chamber power is: {} kW'\u001b[0m\u001b[0;34m.\u001b[0m\u001b[0mformat\u001b[0m\u001b[0;34m(\u001b[0m\u001b[0mdata_samples\u001b[0m\u001b[0;34m[\u001b[0m\u001b[0mkey\u001b[0m\u001b[0;34m]\u001b[0m\u001b[0;34m[\u001b[0m\u001b[0;34m'Power'\u001b[0m\u001b[0;34m]\u001b[0m\u001b[0;34m)\u001b[0m\u001b[0;34m)\u001b[0m\u001b[0;34m\u001b[0m\u001b[0;34m\u001b[0m\u001b[0m\n",
      "\u001b[0;31mNameError\u001b[0m: name 'data_samples' is not defined"
     ]
    }
   ],
   "source": [
    "# Rigid shift for all source, seed-middle and seed-edge temperature\n",
    "delta_T = 0.0\n",
    "\n",
    "for key in data_samples:\n",
    "    print('Process ID: {}'.format(key))\n",
    "    print('The chamber power is: {} kW'.format(data_samples[key]['Power']))\n",
    "    Tseed_center = data_samples[key]['T_seed_middle'] + T_zero_kelvin + delta_T\n",
    "    Tsource = (data_samples[key]['T_source_middle'] + data_samples[key]['T_source_edge']) * 0.5 + T_zero_kelvin + delta_T\n",
    "    # Old glass dataset\n",
    "    #Tseed_edge = data_samples[key]['T_seed_edge'] + T_zero_kelvin + delta_T\n",
    "    # New glass data set\n",
    "    Tseed_edge = Tseed_center + (Tsource - Tseed_center)*0.5 \n",
    "    print('Seed-middle temperature: {} [K]'.format(Tseed_center))\n",
    "    print('Seed-edge temperature: {} [K]'.format(Tseed_edge))\n",
    "    print('Source temperature: {} [K]'.format(Tsource))\n",
    "    delta_source_seed_center = Tsource - Tseed_center\n",
    "    print('Source - Seed-center temperature: {} [K]'.format(delta_source_seed_center))\n",
    "    delta_source_seed_edge = Tsource - Tseed_edge\n",
    "    print('Source - Seed-edge temperature: {} [K]'.format(delta_source_seed_edge))\n",
    "    print('')\n",
    "    data = get_data_avrov_lilov(Tsource,Tseed_center,Tseed_edge)\n",
    "    for data_name in data_names:\n",
    "        print('Calibration for vapor pressure: {}'.format(data_name))\n",
    "        plot_lines(data,data_name)\n",
    "    print('')\n",
    "    "
   ]
  },
  {
   "cell_type": "markdown",
   "metadata": {},
   "source": [
    "## Process window"
   ]
  },
  {
   "cell_type": "code",
   "execution_count": 9,
   "metadata": {},
   "outputs": [],
   "source": [
    "def z_func(data_name,Tsource_curr,DeltaT_source_seed_center):\n",
    "    Tsource = Tsource_curr\n",
    "    Tseed_center = Tsource_curr - DeltaT_source_seed_center\n",
    "    Tseed_edge = Tsource_curr - DeltaT_source_seed_center * 0.5\n",
    "    data = get_data_avrov_lilov(Tsource,Tseed_center,Tseed_edge)\n",
    "    data_to_plot = data[data_name]\n",
    "    value = data_to_plot[0]['Gr_SiC'] # Growth rate at middle seed position\n",
    "    return value"
   ]
  },
  {
   "cell_type": "code",
   "execution_count": 10,
   "metadata": {},
   "outputs": [],
   "source": [
    "def get_two_dimensional_plt(data_name):\n",
    "    from pylab import pcolor\n",
    "    Tsource_start = 1900\n",
    "    Tsource_end = Tsource_start + 200.0 \n",
    "    Tsource_vect = np.linspace(Tsource_start, Tsource_end, 400)\n",
    "\n",
    "    Delta_Tsource_Tseed_center_vect = np.linspace(0.0, 50.0, 100)\n",
    "\n",
    "    Z = np.zeros((len(Delta_Tsource_Tseed_center_vect),len(Tsource_vect),))\n",
    "\n",
    "    X, Y = np.meshgrid(Tsource_vect, Delta_Tsource_Tseed_center_vect)\n",
    "\n",
    "    for i in range(len(Tsource_vect)):\n",
    "        for j in range(len(Delta_Tsource_Tseed_center_vect)):\n",
    "            Z[j,i] = z_func(data_name,Tsource_vect[i]+ T_zero_kelvin,Delta_Tsource_Tseed_center_vect[j])\n",
    "\n",
    "    fig = plt.figure(figsize=(20,10))\n",
    "\n",
    "    #im = plt.imshow(Z, cmap=plt.cm.RdBu, extent=(Tsource_start-T_zero_kelvin, Tsource_end-T_zero_kelvin, Delta_Tsource_Tseed_center_vect[-1], Delta_Tsource_Tseed_center_vect[0]))  \n",
    "    im = pcolor(X,Y, Z, cmap='RdBu' )\n",
    "    cset = plt.contour(Z, np.arange(100, 301, 50), linewidths=2,\n",
    "                       cmap=plt.cm.Set2,\n",
    "                       extent=(Tsource_start, Tsource_end, Delta_Tsource_Tseed_center_vect[0], Delta_Tsource_Tseed_center_vect[-1]))\n",
    "    plt.clabel(cset, inline=True, fmt='%1.1f', fontsize=20)\n",
    "    cbar=plt.colorbar(im)\n",
    "    cbar.ax.get_yaxis().labelpad = 50\n",
    "    cbar.set_label('Growth rate at middle seed [micron/hour]', rotation=270)\n",
    "\n",
    "    print('Experimental growth rates')\n",
    "    for key in data_samples:\n",
    "        Tseed_center_exp = data_samples[key]['T_seed_middle']\n",
    "        Tsource_exp = (data_samples[key]['T_source_middle'] + data_samples[key]['T_source_edge']) * 0.5\n",
    "        delta_exp = Tsource_exp - Tseed_center_exp \n",
    "        plt.scatter(Tsource_exp,delta_exp,color='red')\n",
    "        if key == '148':\n",
    "            plt.text(Tsource_exp-9,delta_exp+1,data_samples[key]['Exp-Growth-Rate'],size=20)\n",
    "        else:\n",
    "            plt.text(Tsource_exp+1,delta_exp+1,data_samples[key]['Exp-Growth-Rate'],size=20)\n",
    "        print('Process ID {}: {} [micron/hour]'.format(key,data_samples[key]['Exp-Growth-Rate']))\n",
    "\n",
    "    plt.xlabel('$T_{source}$ [$^{\\circ}$C]', size=25)\n",
    "    plt.ylabel('$T_{source} - T_{seedmiddle}$ [$^{\\circ}$C]', size=30)\n",
    "    if data_name == 'avrov':\n",
    "        plt.title('3C-SiC epitaxial growth - Avrov calibrartion', size=30, pad=10)\n",
    "    elif data_name == 'lilov':\n",
    "        plt.title('3C-SiC epitaxial growth - Lilov calibrartion', size=30, pad=10)\n",
    "\n",
    "    plt.show()\n",
    "    return"
   ]
  },
  {
   "cell_type": "code",
   "execution_count": 2,
   "metadata": {
    "scrolled": true
   },
   "outputs": [
    {
     "name": "stdout",
     "output_type": "stream",
     "text": [
      "Red dots represent the experimental processes.\n",
      "\n"
     ]
    },
    {
     "ename": "NameError",
     "evalue": "name 'data_names' is not defined",
     "output_type": "error",
     "traceback": [
      "\u001b[0;31m---------------------------------------------------------------------------\u001b[0m",
      "\u001b[0;31mNameError\u001b[0m                                 Traceback (most recent call last)",
      "\u001b[0;32m<ipython-input-2-cbe466dc3f39>\u001b[0m in \u001b[0;36m<module>\u001b[0;34m\u001b[0m\n\u001b[1;32m      1\u001b[0m \u001b[0mprint\u001b[0m\u001b[0;34m(\u001b[0m\u001b[0;34m'Red dots represent the experimental processes.'\u001b[0m\u001b[0;34m)\u001b[0m\u001b[0;34m\u001b[0m\u001b[0;34m\u001b[0m\u001b[0m\n\u001b[1;32m      2\u001b[0m \u001b[0mprint\u001b[0m\u001b[0;34m(\u001b[0m\u001b[0;34m''\u001b[0m\u001b[0;34m)\u001b[0m\u001b[0;34m\u001b[0m\u001b[0;34m\u001b[0m\u001b[0m\n\u001b[0;32m----> 3\u001b[0;31m \u001b[0;32mfor\u001b[0m \u001b[0mdata_name\u001b[0m \u001b[0;32min\u001b[0m \u001b[0mdata_names\u001b[0m\u001b[0;34m:\u001b[0m\u001b[0;34m\u001b[0m\u001b[0;34m\u001b[0m\u001b[0m\n\u001b[0m\u001b[1;32m      4\u001b[0m     \u001b[0mget_two_dimensional_plt\u001b[0m\u001b[0;34m(\u001b[0m\u001b[0mdata_name\u001b[0m\u001b[0;34m)\u001b[0m\u001b[0;34m\u001b[0m\u001b[0;34m\u001b[0m\u001b[0m\n",
      "\u001b[0;31mNameError\u001b[0m: name 'data_names' is not defined"
     ]
    }
   ],
   "source": [
    "print('Red dots represent the experimental processes.')\n",
    "print('')\n",
    "for data_name in data_names:\n",
    "    get_two_dimensional_plt(data_name)"
   ]
  },
  {
   "cell_type": "markdown",
   "metadata": {},
   "source": [
    "## Calibration and input file generation"
   ]
  },
  {
   "cell_type": "markdown",
   "metadata": {},
   "source": [
    "To set up the input file `start.dat` of mulskips, you have to update the `data_samples` dictionary for the current experimental processes, choose your particular process with the setting of `key` variable below and choose the particular calibration for vapor presure of 3C-SiC with the variable `data_name`.\n",
    "You can definve `Tseed_center` or with the `DeltaT_source_seed_center` or directily from the `data_samples` dictionary.\n",
    "\n",
    "Alternatively you can set up directily `Tsource` (for the evaporation frequencies) and `Tseed_center` (for the deposition frequencies) and `data_name`, without using the experimental temperatures from the `data_samples` dictionary."
   ]
  },
  {
   "cell_type": "code",
   "execution_count": 9,
   "metadata": {},
   "outputs": [],
   "source": [
    "# FUNDAMENTAL SETTING !!!\n",
    "\n",
    "# This is the only cell to be set for the input file generation.\n",
    "key = '1' # experimental dataset\n",
    "\n",
    "Tsource = (data_samples[key]['T_source_middle'] + data_samples[key]['T_source_edge']) * 0.5 + T_zero_kelvin # [K]\n",
    "\n",
    "#DeltaT_source_seed_center = 10 # [K]\n",
    "#Tseed_center = Tsource - DeltaT_source_seed_center\n",
    "Tseed_center = data_samples[key]['T_seed_middle'] + T_zero_kelvin # [K]\n",
    "\n",
    "# Set the vapor pressure calibration\n",
    "data_name = 'avrov'\n",
    "\n",
    "# Probability for the stacking fault generation\n",
    "PtransZig = 1.0\n",
    "\n",
    "# Variable to set for the initial system:\n",
    "# S Sphere\n",
    "# C Parellelepipid\n",
    "# F Flat (100) surface\n",
    "# A Antiphase boundary APB\n",
    "# I inverted pyramid\n",
    "# D inverted pyramid of C\n",
    "# Z inverted pyramid of Si\n",
    "# J inverted pyramid with APB\n",
    "Simulation = \"F\"\n",
    "\n",
    "# Size of the initial system\n",
    "Seed_box = [120, 120, 120] # Len1 Len2 Len3\n",
    "\n",
    "filename = 'start-3C-SiC-PVD.dat' # name of the output file where the mulskips input keys are stored.\n",
    "                                  # This as to be renamed as start.dat to run mulskips. "
   ]
  },
  {
   "cell_type": "markdown",
   "metadata": {},
   "source": [
    "### Ab-initio energetics"
   ]
  },
  {
   "cell_type": "markdown",
   "metadata": {},
   "source": [
    "Following we report the ab-initio DFT energetics for the binding energies [eV] of a single silicon or carbon atom with a single/double/triple bond coordination to a 3C-SiC surface. Details are reported in the suplementary material of the paper Fisicaro et al. Appl. Phys. Rev. 7, 021402 (2020)."
   ]
  },
  {
   "cell_type": "code",
   "execution_count": 10,
   "metadata": {},
   "outputs": [],
   "source": [
    "ESi=np.zeros((4, 4)) # Si energetics of evaporation in eV\n",
    "EC=np.zeros((4, 4)) # C energetics of evaporation in eV\n",
    "\n",
    "f=4 # factor for the energetics interpolation\n",
    "\n",
    "# Coordination 1 of Si from 111 C-terminated 4x1x2 bigdft surface\n",
    "ESi[0,1]= -6.83 # -4.39 BigDFT # -6.83 # QE \n",
    "# Coordination 2 of Si from 100 Si-terminated 3x1x3 dimer surface\n",
    "ESi[0,2]=-7.04\n",
    "# Coordination 3 of Si from 111 Si-terminated 4x1x2 surface\n",
    "ESi[0,3]=-7.77\n",
    "# Coordination 1 of Si adatom optimized on 111 Si-terminated 4x1x2 surface\n",
    "ESi[1,0]=-6.72\n",
    "ESi[1,1]=(f*ESi[1,0]+ESi[0,2])/(f+1) # -6.8 # ESi[1,0] < ESi[1,1] < ESi[0,2]\n",
    "ESi[1,2]=(f*ESi[0,2]+ESi[0,3])/(f+1) # -6.8 # ESi[0,2] < ESi[1,2] < ESi[0,3]\n",
    "ESi[2,1]=(f*ESi[1,1]+ESi[0,3])/(f+1) # -6.8 # ESi[1,1] < ESi[2,1] < ESi[0,3]\n",
    "ESi[2,0]=(f*ESi[1,0]+ESi[2,1])/(f+1) # -6.8 # ESi[1,0] < ESi[2,0] < ESi[2,1]\n",
    "ESi[3,0]=(f*ESi[2,0]+ESi[2,1])/(f+1) # -6.8 # ESi[2,0] < ESi[3,0] < ESi[2,1]\n",
    "\n",
    "# Coordination 1 of C from 111 Si-terminated 4x1x2 surface\n",
    "EC[1,0]=-9.10\n",
    "# Coordination 2 of C from 100 C-terminated 3x1x3 dimer surface\n",
    "EC[2,0]=-11.43\n",
    "# Coordination 3 of C from 111 C-terminated 4x1x2 bigdft surface\n",
    "EC[3,0]=-11.80\n",
    "# Coordination 1 of C adatom optimized on 111 C-terminated 4x1x2 bigdft surface\n",
    "EC[0,1]=-7.76\n",
    "EC[1,1]= (f*EC[1,0]+EC[2,0])/(f+1) #  -9.8 # EC[1,0] < EC[1,1] < EC[2,0]\n",
    "EC[1,2]= (f*EC[1,1]+EC[3,0])/(f+1) # -10.0 # EC[1,1] < EC[1,2] < EC[3,0]\n",
    "EC[0,2]= (f*EC[0,1]+EC[1,2])/(f+1) # -8.1 # EC[0,1] < EC[0,2] < EC[1,2] \n",
    "EC[2,1]= (f*EC[2,0]+EC[3,0])/(f+1) # -11.6 # EC[2,0] < EC[2,1] < EC[3,0]\n",
    "EC[0,3]= (f*EC[0,2]+EC[1,2])/(f+1) # -9.1 # EC[0,2] < EC[0,3] < EC[1,2]"
   ]
  },
  {
   "cell_type": "markdown",
   "metadata": {},
   "source": [
    "### Evaporation Frequencies"
   ]
  },
  {
   "cell_type": "code",
   "execution_count": 11,
   "metadata": {},
   "outputs": [],
   "source": [
    "Temperature = Tseed_center # Set temperature only here for the whole evaporation frequencies section"
   ]
  },
  {
   "cell_type": "code",
   "execution_count": 12,
   "metadata": {},
   "outputs": [],
   "source": [
    "Bolt_Si=np.zeros((4, 4)) # Probabilities of Si\n",
    "Bolt_C=np.zeros((4, 4)) # Probabilities of C\n",
    "\n",
    "Bolt_Si=np.exp(ESi/(kb_ev * Temperature))\n",
    "Bolt_C =np.exp(EC/(kb_ev * Temperature))"
   ]
  },
  {
   "cell_type": "code",
   "execution_count": 13,
   "metadata": {},
   "outputs": [],
   "source": [
    "loc_fluxes = get_fluxes(data_name,Temperature) # mol/s/m^2\n",
    "Si_flux_ev = loc_fluxes['Si'] + 2.0*loc_fluxes['Si2C'] + loc_fluxes['SiC2']\n",
    "C_flux_ev = loc_fluxes['Si2C'] + 2.0*loc_fluxes['SiC2']"
   ]
  },
  {
   "cell_type": "code",
   "execution_count": 14,
   "metadata": {},
   "outputs": [],
   "source": [
    "freq_0 = M_SiC / rho_surf_SiC # m^2 / mol\n",
    "PtransE_Si = freq_0*Si_flux_ev*Bolt_Si/Bolt_Si[0,2] # at/s\n",
    "PtransE_C = freq_0*C_flux_ev*Bolt_C/Bolt_C[2,0] # at/s"
   ]
  },
  {
   "cell_type": "code",
   "execution_count": 15,
   "metadata": {},
   "outputs": [
    {
     "name": "stdout",
     "output_type": "stream",
     "text": [
      "28639.301782948864\n"
     ]
    }
   ],
   "source": [
    "print(freq_0)"
   ]
  },
  {
   "cell_type": "code",
   "execution_count": 16,
   "metadata": {},
   "outputs": [
    {
     "name": "stdout",
     "output_type": "stream",
     "text": [
      "[[2.38890989e+19 1.39119647e+04 4.73116621e+03 1.11339729e+02]\n",
      " [2.44766207e+04 1.76195498e+04 2.23513931e+03 2.38890989e+19]\n",
      " [1.87165734e+04 6.39920287e+03 2.38890989e+19 2.38890989e+19]\n",
      " [1.51010189e+04 2.38890989e+19 2.38890989e+19 2.38890989e+19]]\n"
     ]
    }
   ],
   "source": [
    "print(PtransE_Si)"
   ]
  },
  {
   "cell_type": "code",
   "execution_count": 17,
   "metadata": {},
   "outputs": [
    {
     "name": "stdout",
     "output_type": "stream",
     "text": [
      "[[3.98027384e+28 1.95285083e+11 1.93046642e+10 3.03149457e+09]\n",
      " [2.00309570e+08 1.82917323e+07 1.84346532e+06 3.98027384e+28]\n",
      " [1.27194224e+03 8.69771179e+02 3.98027384e+28 3.98027384e+28]\n",
      " [1.90175910e+02 3.98027384e+28 3.98027384e+28 3.98027384e+28]]\n"
     ]
    }
   ],
   "source": [
    "print(PtransE_C)"
   ]
  },
  {
   "cell_type": "markdown",
   "metadata": {},
   "source": [
    "### Deposition Frequencies"
   ]
  },
  {
   "cell_type": "code",
   "execution_count": 18,
   "metadata": {},
   "outputs": [],
   "source": [
    "Temperature = Tsource # Set temperature only here for the whole deposition frequencies section"
   ]
  },
  {
   "cell_type": "code",
   "execution_count": 19,
   "metadata": {},
   "outputs": [],
   "source": [
    "Bolt_Si=np.zeros((4, 4)) # Probabilities of Si\n",
    "Bolt_C=np.zeros((4, 4)) # Probabilities of C\n",
    "\n",
    "Bolt_Si=np.exp(ESi/(kb_ev * Temperature))\n",
    "Bolt_C =np.exp(EC/(kb_ev * Temperature))"
   ]
  },
  {
   "cell_type": "code",
   "execution_count": 20,
   "metadata": {},
   "outputs": [],
   "source": [
    "loc_fluxes = get_fluxes(data_name,Temperature) # mol/s/m^2\n",
    "Si_flux_ev = loc_fluxes['Si'] + 2.0*loc_fluxes['Si2C'] + loc_fluxes['SiC2']\n",
    "C_flux_ev = loc_fluxes['Si2C'] + 2.0*loc_fluxes['SiC2']"
   ]
  },
  {
   "cell_type": "code",
   "execution_count": 21,
   "metadata": {},
   "outputs": [],
   "source": [
    "freq_0 = M_SiC / rho_surf_SiC # m^2 / mol\n",
    "PtransD_Si = freq_0*Si_flux_ev*Bolt_Si/Bolt_Si[0,2] # at/s\n",
    "PtransD_C = freq_0*C_flux_ev*Bolt_C/Bolt_C[2,0] # at/s"
   ]
  },
  {
   "cell_type": "code",
   "execution_count": 22,
   "metadata": {},
   "outputs": [],
   "source": [
    "PtransD=np.zeros(6)"
   ]
  },
  {
   "cell_type": "code",
   "execution_count": 23,
   "metadata": {},
   "outputs": [],
   "source": [
    "fact_D = [1.10546, 200.0, 0.276365, 2.5, 44.2184, 400.0]\n",
    "#fact_D = [1.0, 1.0, 1.0, 1.0, 1.0, 1.0]\n",
    "preD = 0.38"
   ]
  },
  {
   "cell_type": "code",
   "execution_count": 24,
   "metadata": {},
   "outputs": [],
   "source": [
    "PtransD[0]=preD*fact_D[0]*PtransD_Si[0,2] # Si coord 1, old 1\n",
    "PtransD[1]=preD*fact_D[1]*PtransD_C[2,0] # C  coord 1, old 1\n",
    "PtransD[2]=preD*fact_D[2]*PtransD_Si[0,2] # Si coord 2, old 2\n",
    "PtransD[3]=preD*fact_D[3]*PtransD_C[2,0]  # C  coord 2, old 2\n",
    "PtransD[4]=preD*fact_D[4]*PtransD_Si[0,2] # Si coord 3, old 20\n",
    "PtransD[5]=preD*fact_D[5]*PtransD_C[2,0] # C  coord 3, old 20"
   ]
  },
  {
   "cell_type": "code",
   "execution_count": 25,
   "metadata": {},
   "outputs": [
    {
     "name": "stdout",
     "output_type": "stream",
     "text": [
      "[  2058.71938832 101656.52094855    514.67984708   1270.70651186\n",
      "  82348.77553287 203313.0418971 ]\n"
     ]
    }
   ],
   "source": [
    "print(PtransD)"
   ]
  },
  {
   "cell_type": "markdown",
   "metadata": {},
   "source": [
    "### Generation of the kinetic Monte Carlo input file"
   ]
  },
  {
   "cell_type": "markdown",
   "metadata": {},
   "source": [
    "Following an example of a new input file `start.dat` of mulskips for a chemical vapor deposition process with coverage species. In particular a diatomic crystal and two coverage species."
   ]
  },
  {
   "cell_type": "code",
   "execution_count": null,
   "metadata": {},
   "outputs": [],
   "source": [
    "2 2    ! number of elements of the growing crystal, number of coverage species\n",
    "14 6   ! list of elements of the crystal\n",
    "1 17   ! list of coverage species\n",
    "F      ! Initstat: S Sphere, C Parellelepipid, F Flat (100) surface, A APB, I inverted pyramid, D inverted pyramid of C, Z inverted pyramid of Si, J inverted pyramid with APB\n",
    "120 120 120 ! Len1 Len2 Len3\n",
    "1.0 ! PtransZig\n",
    "100000  ! OutMolMol -> output frequency\n",
    "5000000 ! IterMax -> Max number of iterations\n",
    "10000   ! exit_zeta strategy after lenz=500\n",
    "R   ! R = production run; T = run test with a fixed sequence of random numbers\n",
    "\n",
    "1 0100 13911.96465336928 ! PtransE_Si[0,1,0,0]\n",
    "1 1000 24476.62074745078 ! PtransE_Si[1,0,0,0]\n",
    "1 1100 17619.54982743529 ! PtransE_Si[1,1,0,0]\n",
    "1 0200 4731.166214671813 ! PtransE_Si[0,2,0,0]\n",
    "1 2000 18716.57344132276 ! PtransE_Si[2,0,0,0]\n",
    "1 2100 6399.202870605682 ! PtransE_Si[2,1,0,0]\n",
    "1 1200 2235.139310537331 ! PtransE_Si[1,2,0,0]\n",
    "1 0300 111.3397291121175 ! PtransE_Si[0,3,0,0]\n",
    "1 3000 15101.01885721987 ! PtransE_Si[3,0,0,0]\n",
    "\n",
    "1 6399.202870605682 ! PtransE_Si[1,0,1,0]\n",
    "1 6399.202870605682 ! PtransE_Si[1,0,0,1]\n",
    "1 6399.202870605682 ! PtransE_Si[0,1,1,0]\n",
    "1 6399.202870605682 ! PtransE_Si[0,1,0,1]\n",
    "\n",
    "1 6399.202870605682 ! PtransE_Si[2,0,1,0]\n",
    "1 6399.202870605682 ! PtransE_Si[2,0,0,1]\n",
    "1 6399.202870605682 ! PtransE_Si[0,2,1,0]\n",
    "1 6399.202870605682 ! PtransE_Si[0,2,0,1]\n",
    "1 6399.202870605682 ! PtransE_Si[1,1,1,0]\n",
    "1 6399.202870605682 ! PtransE_Si[1,1,0,1]\n",
    "1 6399.202870605682 ! PtransE_Si[1,0,1,1]\n",
    "1 6399.202870605682 ! PtransE_Si[0,1,1,1]\n",
    "1 6399.202870605682 ! PtransE_Si[1,0,2,0]\n",
    "1 6399.202870605682 ! PtransE_Si[1,0,0,2]\n",
    "1 6399.202870605682 ! PtransE_Si[0,1,2,0]\n",
    "1 6399.202870605682 ! PtransE_Si[0,1,0,2]\n",
    "\n",
    "1 6399.202870605682 ! PtransE_Si[2,1,1,0]\n",
    "1 6399.202870605682 ! PtransE_Si[1,2,1,0]\n",
    "1 6399.202870605682 ! PtransE_Si[2,1,0,1]\n",
    "1 6399.202870605682 ! PtransE_Si[1,2,1,0]\n",
    "\n",
    "1 6399.202870605682 ! PtransE_Si[2,0,2,0]\n",
    "1 6399.202870605682 ! PtransE_Si[2,0,0,2]\n",
    "1 6399.202870605682 ! PtransE_Si[0,2,2,0]\n",
    "1 6399.202870605682 ! PtransE_Si[0,2,0,2]\n",
    "1 6399.202870605682 ! PtransE_Si[1,1,2,0]\n",
    "1 6399.202870605682 ! PtransE_Si[1,1,0,2]\n",
    "1 6399.202870605682 ! PtransE_Si[1,0,1,2]\n",
    "1 6399.202870605682 ! PtransE_Si[1,0,2,1]\n",
    "1 6399.202870605682 ! PtransE_Si[0,1,2,1]\n",
    "1 6399.202870605682 ! PtransE_Si[0,1,1,2]\n",
    "\n",
    "1 6399.202870605682 ! PtransE_Si[1,0,3,0]\n",
    "1 6399.202870605682 ! PtransE_Si[1,0,0,3]\n",
    "1 6399.202870605682 ! PtransE_Si[0,1,3,0]\n",
    "1 6399.202870605682 ! PtransE_Si[0,1,0,3]\n",
    "\n",
    "1 6399.202870605682 ! PtransE_Si[3,0,1,0]\n",
    "1 6399.202870605682 ! PtransE_Si[3,0,0,1]\n",
    "1 6399.202870605682 ! PtransE_Si[0,3,1,0]\n",
    "1 6399.202870605682 ! PtransE_Si[0,3,0,1]\n",
    "\n",
    "! ripetere per carbonio!!\n",
    "\n",
    "4900.840013068601 ! PtransD_Si[1]\n",
    "1337.585801954620 ! PtransD_Si[2]\n",
    "4900.840013068601 ! PtransD_Si[3]\n",
    "\n",
    "1337.585801954620 ! PtransD_C[1]\n",
    "4900.840013068601 ! PtransD_C[2]\n",
    "4900.840013068601 ! PtransD_C[3]\n",
    "\n",
    "1337.585801954620 ! PtransABS_H[1]\n",
    "1337.585801954620 ! PtransABS_H[2]\n",
    "1337.585801954620 ! PtransABS_H[3]\n",
    "\n",
    "1337.585801954620 ! PtransABS_Cl[1]\n",
    "1337.585801954620 ! PtransABS_Cl[2]\n",
    "1337.585801954620 ! PtransABS_Cl[3]\n",
    "\n",
    "1337.585801954620 ! PtransDES_H[1]\n",
    "1337.585801954620 ! PtransDES_H[2]\n",
    "1337.585801954620 ! PtransDES_H[3]\n",
    "\n",
    "1337.585801954620 ! PtransDES_Cl[1]\n",
    "1337.585801954620 ! PtransDES_Cl[2]\n",
    "1337.585801954620 ! PtransDES_Cl[3]"
   ]
  },
  {
   "cell_type": "code",
   "execution_count": 26,
   "metadata": {},
   "outputs": [],
   "source": [
    "def print_file_input(filename,PtransE_Si,PtransE_C,PtransD,PtransZig,Simulation,Sedd_box):\n",
    "    file = open(filename,\"w\") \n",
    "\n",
    "    file.write(str(PtransE_Si[0,1])+\" ! PtransE_Si[0,1]\" + \"\\n\") \n",
    "    file.write(str(PtransE_Si[1,0])+\" ! PtransE_Si[1,0]\" + \"\\n\")\n",
    "    file.write(str(PtransE_Si[1,1])+\" ! PtransE_Si[1,1]\" + \"\\n\") \n",
    "    file.write(str(PtransE_Si[0,2])+\" ! PtransE_Si[0,2]\" + \"\\n\") \n",
    "    file.write(str(PtransE_Si[2,0])+\" ! PtransE_Si[2,0]\" + \"\\n\") \n",
    "    file.write(str(PtransE_Si[2,1])+\" ! PtransE_Si[2,1]\" + \"\\n\") \n",
    "    file.write(str(PtransE_Si[1,2])+\" ! PtransE_Si[1,2]\" + \"\\n\") \n",
    "    file.write(str(PtransE_Si[0,3])+\" ! PtransE_Si[0,3]\" + \"\\n\") \n",
    "    file.write(str(PtransE_Si[3,0])+\" ! PtransE_Si[3,0]\" + \"\\n\") \n",
    "\n",
    "    file.write(str(PtransE_C[0,1])+\" ! PtransE_C[0,1]\" + \"\\n\") \n",
    "    file.write(str(PtransE_C[1,0])+\" ! PtransE_C[1,0]\" + \"\\n\")\n",
    "    file.write(str(PtransE_C[1,1])+\" ! PtransE_C[1,1]\" + \"\\n\") \n",
    "    file.write(str(PtransE_C[0,2])+\" ! PtransE_C[0,2]\" + \"\\n\") \n",
    "    file.write(str(PtransE_C[2,0])+\" ! PtransE_C[2,0]\" + \"\\n\") \n",
    "    file.write(str(PtransE_C[2,1])+\" ! PtransE_C[2,1]\" + \"\\n\") \n",
    "    file.write(str(PtransE_C[1,2])+\" ! PtransE_C[1,2]\" + \"\\n\") \n",
    "    file.write(str(PtransE_C[0,3])+\" ! PtransE_C[0,3]\" + \"\\n\") \n",
    "    file.write(str(PtransE_C[3,0])+\" ! PtransE_C[3,0]\" + \"\\n\") \n",
    "\n",
    "    file.write(str(PtransD[0])+\" ! PtransD[1]\" + \"\\n\") \n",
    "    file.write(str(PtransD[1])+\" ! PtransD[2]\" + \"\\n\") \n",
    "    file.write(str(PtransD[2])+\" ! PtransD[3]\" + \"\\n\") \n",
    "    file.write(str(PtransD[3])+\" ! PtransD[4]\" + \"\\n\") \n",
    "    file.write(str(PtransD[4])+\" ! PtransD[5]\" + \"\\n\") \n",
    "    file.write(str(PtransD[5])+\" ! PtransD[6]\" + \"\\n\") \n",
    "\n",
    "    file.write(str(PtransZig)+\" ! PtransZig\" + \"\\n\")\n",
    "\n",
    "    file.write(Simulation+\" ! Initstat: S Sphere, C Parellelepipid, F Flat (100) surface, A APB, I inverted pyramid, D inverted pyramid of C, Z inverted pyramid of Si, J inverted pyramid with APB \" +  \"\\n\")\n",
    "\n",
    "    Sys_size=str(Seed_box[0])+' '+str(Seed_box[1])+' '+str(Seed_box[2])\n",
    "    file.write(Sys_size+\" ! Len1 Len2 Len3\" + \"\\n\")\n",
    "    \n",
    "#    file.write(\"100000  ! OutMolMol -> output frequency\" + \"\\n\")\n",
    "#    file.write(\"100000000 ! IterMax -> Max number of iterations\" + \"\\n\")\n",
    "    \n",
    "    file.write(\"1000000  ! OutMolMol -> output frequency\" + \"\\n\")\n",
    "    file.write(\"100000000 ! IterMax -> Max number of iterations\" + \"\\n\")\n",
    "\n",
    "    \n",
    "    file.write(\"10000   ! exit_zeta strategy after lenz=500 \" + \"\\n\")\n",
    "    file.write(\"R   ! R = production run; T = run test with a fixed sequence of random numbers \" + \"\\n\")\n",
    "    \n",
    "    file.close() \n",
    "    return \"printing done\""
   ]
  },
  {
   "cell_type": "markdown",
   "metadata": {},
   "source": [
    "## MulSKIPS run"
   ]
  },
  {
   "cell_type": "markdown",
   "metadata": {},
   "source": [
    "To run mulskips, the user is supposed to set only the variables inside the cell below."
   ]
  },
  {
   "cell_type": "code",
   "execution_count": 27,
   "metadata": {},
   "outputs": [],
   "source": [
    "# Full path of the compiled mulskips executable:\n",
    "mulskipsexecutable = '/Users/giuseppefisicaro/Documents/mulskips-notebook-vapor/mulskips-build/mulskips.e | tee log.txt;'\n",
    "\n",
    "run_name = 'P-151'"
   ]
  },
  {
   "cell_type": "code",
   "execution_count": 28,
   "metadata": {},
   "outputs": [
    {
     "name": "stdout",
     "output_type": "stream",
     "text": [
      "The current working directory is /Users/giuseppefisicaro/Documents/mulskips-notebook-vapor/wellmann-project\n"
     ]
    }
   ],
   "source": [
    "# detect the current working directory and print it\n",
    "path = os.getcwd()\n",
    "print (\"The current working directory is %s\" % path)"
   ]
  },
  {
   "cell_type": "code",
   "execution_count": 29,
   "metadata": {},
   "outputs": [],
   "source": [
    "# create the directory run_name where to run the mulskips code\n",
    "rundir=path+'/'+run_name"
   ]
  },
  {
   "cell_type": "code",
   "execution_count": 30,
   "metadata": {},
   "outputs": [
    {
     "name": "stdout",
     "output_type": "stream",
     "text": [
      "Error: /Users/giuseppefisicaro/Documents/mulskips-notebook-vapor/wellmann-project/P-151 : No such file or directory\n"
     ]
    }
   ],
   "source": [
    "try:\n",
    "    # remove the testdir directory if it already exist\n",
    "    shutil.rmtree(rundir)\n",
    "except OSError as e:\n",
    "    print(\"Error: %s : %s\" % (rundir, e.strerror))"
   ]
  },
  {
   "cell_type": "code",
   "execution_count": 31,
   "metadata": {},
   "outputs": [
    {
     "name": "stdout",
     "output_type": "stream",
     "text": [
      "Successfully created the directory /Users/giuseppefisicaro/Documents/mulskips-notebook-vapor/wellmann-project \n"
     ]
    }
   ],
   "source": [
    "try:\n",
    "    os.mkdir(rundir)\n",
    "except OSError:\n",
    "    print (\"Creation of the directory %s failed\" % path)\n",
    "else:\n",
    "    print (\"Successfully created the directory %s \" % path)"
   ]
  },
  {
   "cell_type": "code",
   "execution_count": 32,
   "metadata": {},
   "outputs": [
    {
     "name": "stdout",
     "output_type": "stream",
     "text": [
      "Directory changed to: /Users/giuseppefisicaro/Documents/mulskips-notebook-vapor/wellmann-project/P-151\n"
     ]
    }
   ],
   "source": [
    "try:\n",
    "    # Change from current working Directory to rundir    \n",
    "    os.chdir(rundir)\n",
    "    print('Directory changed to: {}'.format(rundir))\n",
    "except OSError:\n",
    "    print(\"Can't change the Current Working Directory\")"
   ]
  },
  {
   "cell_type": "code",
   "execution_count": 33,
   "metadata": {},
   "outputs": [
    {
     "data": {
      "text/plain": [
       "'printing done'"
      ]
     },
     "execution_count": 33,
     "metadata": {},
     "output_type": "execute_result"
    }
   ],
   "source": [
    "print_file_input('start.dat',PtransE_Si,PtransE_C,PtransD,PtransZig,Simulation,Seed_box)"
   ]
  },
  {
   "cell_type": "code",
   "execution_count": 3,
   "metadata": {
    "scrolled": true
   },
   "outputs": [
    {
     "ename": "NameError",
     "evalue": "name 'subprocess' is not defined",
     "output_type": "error",
     "traceback": [
      "\u001b[0;31m---------------------------------------------------------------------------\u001b[0m",
      "\u001b[0;31mNameError\u001b[0m                                 Traceback (most recent call last)",
      "\u001b[0;32m<ipython-input-3-3f1f45efb2f9>\u001b[0m in \u001b[0;36m<module>\u001b[0;34m\u001b[0m\n\u001b[1;32m      1\u001b[0m \u001b[0;31m# execute the mulskips.e program with the input file start.dat\u001b[0m\u001b[0;34m\u001b[0m\u001b[0;34m\u001b[0m\u001b[0;34m\u001b[0m\u001b[0m\n\u001b[0;32m----> 2\u001b[0;31m \u001b[0mmake_process\u001b[0m \u001b[0;34m=\u001b[0m \u001b[0msubprocess\u001b[0m\u001b[0;34m.\u001b[0m\u001b[0mPopen\u001b[0m\u001b[0;34m(\u001b[0m\u001b[0mmulskipsexecutable\u001b[0m\u001b[0;34m,\u001b[0m \u001b[0mshell\u001b[0m\u001b[0;34m=\u001b[0m\u001b[0;32mTrue\u001b[0m\u001b[0;34m,\u001b[0m \u001b[0mstdout\u001b[0m\u001b[0;34m=\u001b[0m\u001b[0msubprocess\u001b[0m\u001b[0;34m.\u001b[0m\u001b[0mPIPE\u001b[0m\u001b[0;34m)\u001b[0m\u001b[0;34m\u001b[0m\u001b[0;34m\u001b[0m\u001b[0m\n\u001b[0m\u001b[1;32m      3\u001b[0m \u001b[0;32mwhile\u001b[0m \u001b[0;32mTrue\u001b[0m\u001b[0;34m:\u001b[0m\u001b[0;34m\u001b[0m\u001b[0;34m\u001b[0m\u001b[0m\n\u001b[1;32m      4\u001b[0m     \u001b[0mline\u001b[0m \u001b[0;34m=\u001b[0m \u001b[0mmake_process\u001b[0m\u001b[0;34m.\u001b[0m\u001b[0mstdout\u001b[0m\u001b[0;34m.\u001b[0m\u001b[0mreadline\u001b[0m\u001b[0;34m(\u001b[0m\u001b[0;34m)\u001b[0m\u001b[0;34m\u001b[0m\u001b[0;34m\u001b[0m\u001b[0m\n\u001b[1;32m      5\u001b[0m     \u001b[0;32mif\u001b[0m \u001b[0;32mnot\u001b[0m \u001b[0mline\u001b[0m\u001b[0;34m:\u001b[0m\u001b[0;32mbreak\u001b[0m\u001b[0;34m\u001b[0m\u001b[0;34m\u001b[0m\u001b[0m\n",
      "\u001b[0;31mNameError\u001b[0m: name 'subprocess' is not defined"
     ]
    }
   ],
   "source": [
    "# execute the mulskips.e program with the input file start.dat\n",
    "make_process = subprocess.Popen(mulskipsexecutable, shell=True, stdout=subprocess.PIPE)\n",
    "while True:\n",
    "    line = make_process.stdout.readline()\n",
    "    if not line:break\n",
    "    print(line) #output to console in time\n",
    "    sys.stdout.flush()"
   ]
  },
  {
   "cell_type": "code",
   "execution_count": 35,
   "metadata": {},
   "outputs": [],
   "source": [
    "!rm *.src\n",
    "!mkdir xyz\n",
    "!mkdir d_xyz\n",
    "!mkdir v_xyz\n",
    "!mkdir w_xyz\n",
    "!mv I*_d.xyz d_xyz/\n",
    "!mv I*_v.xyz v_xyz/\n",
    "!mv I*_w.xyz w_xyz/\n",
    "!mv I*.xyz xyz/"
   ]
  },
  {
   "cell_type": "code",
   "execution_count": 36,
   "metadata": {},
   "outputs": [
    {
     "name": "stdout",
     "output_type": "stream",
     "text": [
      "DefAtEnergy.dat \u001b[34md_xyz\u001b[m\u001b[m           log.txt         start.dat       \u001b[34mw_xyz\u001b[m\u001b[m\r\n",
      "Run_time.dat    fort.30         movie.mos       \u001b[34mv_xyz\u001b[m\u001b[m           \u001b[34mxyz\u001b[m\u001b[m\r\n"
     ]
    }
   ],
   "source": [
    "!ls"
   ]
  },
  {
   "cell_type": "code",
   "execution_count": 37,
   "metadata": {},
   "outputs": [
    {
     "name": "stdout",
     "output_type": "stream",
     "text": [
      "Directory changed to: /Users/giuseppefisicaro/Documents/mulskips-notebook-vapor/wellmann-project\n",
      "\n"
     ]
    }
   ],
   "source": [
    "#path = '/Users/giuseppefisicaro/Documents/mulskips-notebook-vapor/wellmann-project/'\n",
    "try:\n",
    "    # Change from current working Directory to path    \n",
    "    os.chdir(path)\n",
    "    print('Directory changed to: {}'.format(path))\n",
    "except OSError:\n",
    "    print(\"Can't change the Current Working Directory\") \n",
    "print('')"
   ]
  },
  {
   "cell_type": "markdown",
   "metadata": {},
   "source": [
    "## Analysis of epitaxial-growth substrate quality and defects"
   ]
  },
  {
   "cell_type": "markdown",
   "metadata": {},
   "source": [
    "Then we need to collect all the output \\*.xyz files from the mulskips run."
   ]
  },
  {
   "cell_type": "code",
   "execution_count": 38,
   "metadata": {},
   "outputs": [],
   "source": [
    "# Collect all *.xyz files within the run_dir directory related to the undercoordinated atoms,\n",
    "# that are the files I00000000.xyz, I00000001.xyz etc ...\n",
    "files_list = os.listdir(rundir+'/xyz')\n",
    "files_list.sort()\n",
    "\n",
    "# Un comment these lines if you want to list all files in the directory 'run_dir'\n",
    "#print('All files are:')\n",
    "#print(files_list)\n",
    "#print('')\n",
    "\n",
    "undercoordinated_atoms = []\n",
    "for file in files_list:\n",
    "    if file[-3:] == 'xyz':\n",
    "        if file[-5].isnumeric():\n",
    "            undercoordinated_atoms.append(file)\n",
    "\n",
    "#for ele in undercoordinated_atoms:\n",
    "#    print(ele)"
   ]
  },
  {
   "cell_type": "code",
   "execution_count": 39,
   "metadata": {},
   "outputs": [],
   "source": [
    "def get_box_sides(filename):\n",
    "    with open (filename) as f:\n",
    "        content = f.read().splitlines()\n",
    "        line=content[1]\n",
    "        splitline = line.split()\n",
    "        acell_x=float(splitline[1])\n",
    "        acell_y=float(splitline[2])\n",
    "        acell_z=float(splitline[3])\n",
    "    return [acell_x,acell_y,acell_z]"
   ]
  },
  {
   "cell_type": "code",
   "execution_count": 40,
   "metadata": {},
   "outputs": [],
   "source": [
    "file=undercoordinated_atoms[0]"
   ]
  },
  {
   "cell_type": "code",
   "execution_count": 4,
   "metadata": {},
   "outputs": [
    {
     "ename": "NameError",
     "evalue": "name 'rundir' is not defined",
     "output_type": "error",
     "traceback": [
      "\u001b[0;31m---------------------------------------------------------------------------\u001b[0m",
      "\u001b[0;31mNameError\u001b[0m                                 Traceback (most recent call last)",
      "\u001b[0;32m<ipython-input-4-7005ca165f8b>\u001b[0m in \u001b[0;36m<module>\u001b[0;34m\u001b[0m\n\u001b[0;32m----> 1\u001b[0;31m \u001b[0mxyz_file\u001b[0m \u001b[0;34m=\u001b[0m \u001b[0mopen\u001b[0m\u001b[0;34m(\u001b[0m\u001b[0mrundir\u001b[0m\u001b[0;34m+\u001b[0m\u001b[0;34m'/xyz/'\u001b[0m\u001b[0;34m+\u001b[0m\u001b[0mfile\u001b[0m\u001b[0;34m)\u001b[0m\u001b[0;34m.\u001b[0m\u001b[0mread\u001b[0m\u001b[0;34m(\u001b[0m\u001b[0;34m)\u001b[0m\u001b[0;34m\u001b[0m\u001b[0;34m\u001b[0m\u001b[0m\n\u001b[0m\u001b[1;32m      2\u001b[0m \u001b[0mxyzview\u001b[0m \u001b[0;34m=\u001b[0m \u001b[0mpy3Dmol\u001b[0m\u001b[0;34m.\u001b[0m\u001b[0mview\u001b[0m\u001b[0;34m(\u001b[0m\u001b[0mwidth\u001b[0m\u001b[0;34m=\u001b[0m\u001b[0;36m400\u001b[0m\u001b[0;34m,\u001b[0m\u001b[0mheight\u001b[0m\u001b[0;34m=\u001b[0m\u001b[0;36m800\u001b[0m\u001b[0;34m)\u001b[0m\u001b[0;34m\u001b[0m\u001b[0;34m\u001b[0m\u001b[0m\n\u001b[1;32m      3\u001b[0m \u001b[0mxyzview\u001b[0m\u001b[0;34m.\u001b[0m\u001b[0maddModel\u001b[0m\u001b[0;34m(\u001b[0m\u001b[0mxyz_file\u001b[0m\u001b[0;34m,\u001b[0m\u001b[0;34m'xyz'\u001b[0m\u001b[0;34m)\u001b[0m\u001b[0;34m\u001b[0m\u001b[0;34m\u001b[0m\u001b[0m\n\u001b[1;32m      4\u001b[0m \u001b[0mxyzview\u001b[0m\u001b[0;34m.\u001b[0m\u001b[0msetStyle\u001b[0m\u001b[0;34m(\u001b[0m\u001b[0;34m{\u001b[0m\u001b[0;34m'sphere'\u001b[0m\u001b[0;34m:\u001b[0m\u001b[0;34m{\u001b[0m\u001b[0;34m'colorscheme'\u001b[0m\u001b[0;34m:\u001b[0m\u001b[0;34m'Jmol'\u001b[0m\u001b[0;34m,\u001b[0m\u001b[0;34m'scale'\u001b[0m\u001b[0;34m:\u001b[0m\u001b[0;36m.5\u001b[0m\u001b[0;34m}\u001b[0m\u001b[0;34m,\u001b[0m\u001b[0;34m'stick'\u001b[0m\u001b[0;34m:\u001b[0m\u001b[0;34m{\u001b[0m\u001b[0;34m'colorscheme'\u001b[0m\u001b[0;34m:\u001b[0m\u001b[0;34m'Jmol'\u001b[0m\u001b[0;34m}\u001b[0m\u001b[0;34m}\u001b[0m\u001b[0;34m)\u001b[0m\u001b[0;34m\u001b[0m\u001b[0;34m\u001b[0m\u001b[0m\n\u001b[1;32m      5\u001b[0m \u001b[0;31m#viewer.zoomTo();\u001b[0m\u001b[0;34m\u001b[0m\u001b[0;34m\u001b[0m\u001b[0;34m\u001b[0m\u001b[0m\n",
      "\u001b[0;31mNameError\u001b[0m: name 'rundir' is not defined"
     ]
    }
   ],
   "source": [
    "xyz_file = open(rundir+'/xyz/'+file).read()\n",
    "xyzview = py3Dmol.view(width=400,height=800)\n",
    "xyzview.addModel(xyz_file,'xyz')\n",
    "xyzview.setStyle({'sphere':{'colorscheme':'Jmol','scale':.5},'stick':{'colorscheme':'Jmol'}})\n",
    "#viewer.zoomTo();\n",
    "#viewer.rotate(45, {'x':1,'y':1,'z':1});\n",
    "#xyzview.addUnitCell()\n",
    "#xyzview.setBackgroundColor('0xeeeeee')\n",
    "xyzview.rotate(-90, {'x':0.9,'y':-0.01,'z':-0.01})\n",
    "#xyzview.addBox({'center':{'x':0,'y':0,'z':0},'dimensions': {'w':300,'h':400,'d':200},'color':'magenta'})\n",
    "acell=get_box_sides(rundir+'/xyz/'+file)\n",
    "print(acell)\n",
    "xyzview.addLine({'start':{'x':0,'y':0,'z':0},'end':{'x':0,'y':0,'z':acell[2]}})\n",
    "xyzview.addLine({'start':{'x':0,'y':0,'z':0},'end':{'x':0,'y':acell[1],'z':0}})\n",
    "xyzview.addLine({'start':{'x':0,'y':0,'z':0},'end':{'x':acell[0],'y':0,'z':0}})\n",
    "xyzview.addLine({'start':{'x':0,'y':acell[1],'z':acell[2]},'end':{'x':acell[0],'y':acell[1],'z':acell[2]}})\n",
    "xyzview.addLine({'start':{'x':acell[0],'y':0,'z':acell[2]},'end':{'x':acell[0],'y':acell[1],'z':acell[2]}})\n",
    "xyzview.addLine({'start':{'x':acell[0],'y':acell[1],'z':0},'end':{'x':acell[0],'y':acell[1],'z':acell[2]}})\n",
    "xyzview.addLine({'start':{'x':0,'y':acell[1],'z':0},'end':{'x':acell[0],'y':acell[1],'z':0}})\n",
    "xyzview.addLine({'start':{'x':acell[0],'y':0,'z':0},'end':{'x':acell[0],'y':acell[1],'z':0}})\n",
    "xyzview.addLine({'start':{'x':0,'y':0,'z':acell[2]},'end':{'x':0,'y':acell[1],'z':acell[2]}})\n",
    "xyzview.addLine({'start':{'x':0,'y':0,'z':acell[2]},'end':{'x':acell[0],'y':0,'z':acell[2]}})\n",
    "xyzview.addLine({'start':{'x':0,'y':acell[1],'z':0},'end':{'x':0,'y':acell[1],'z':acell[2]}})\n",
    "xyzview.addLine({'start':{'x':acell[0],'y':0,'z':0},'end':{'x':acell[0],'y':0,'z':acell[2]}})\n",
    "\n",
    "xyzview.zoomTo()\n",
    "xyzview.show()"
   ]
  },
  {
   "cell_type": "code",
   "execution_count": 42,
   "metadata": {},
   "outputs": [],
   "source": [
    "from ipywidgets import interact,fixed,IntSlider\n",
    "import ipywidgets"
   ]
  },
  {
   "cell_type": "code",
   "execution_count": 5,
   "metadata": {},
   "outputs": [],
   "source": [
    "def MolTo3DView(file, size=(400, 800), style=\"sphere\", surface=False, opacity=0.5):\n",
    "    \"\"\"Draw molecule in 3D\n",
    "    \n",
    "    Args:\n",
    "    ----\n",
    "        xyz_file: rdMol, molecule to show\n",
    "        size: tuple(int, int), canvas size\n",
    "        style: str, type of drawing xyz_file\n",
    "               style can be 'line', 'stick', 'sphere', 'carton'\n",
    "        surface, bool, display SAS\n",
    "        opacity, float, opacity of surface, range 0.0-1.0\n",
    "    Return:\n",
    "    ----\n",
    "        viewer: py3Dmol.view, a class for constructing embedded 3Dmol.js views in ipython notebooks.\n",
    "    \"\"\"\n",
    "    assert style in ('line', 'stick', 'sphere', 'carton')\n",
    "    viewer = py3Dmol.view(width=size[0], height=size[1])\n",
    "    xyz_file = open(file).read()\n",
    "    viewer.addModel(xyz_file,'xyz')\n",
    "    if style=='sphere':\n",
    "        viewer.setStyle({'sphere':{'colorscheme':'Jmol','scale':.5},'stick':{'colorscheme':'Jmol'}})\n",
    "    else:\n",
    "        viewer.setStyle({style:{}})\n",
    "    if surface:\n",
    "        viewer.addSurface(py3Dmol.SAS, {'opacity': opacity})\n",
    "    viewer.rotate(-90, {'x':1,'y':0,'z':0})\n",
    "    acell=get_box_sides(file)\n",
    "    viewer.addLine({'start':{'x':0,'y':0,'z':0},'end':{'x':0,'y':0,'z':acell[2]}})\n",
    "    viewer.addLine({'start':{'x':0,'y':0,'z':0},'end':{'x':0,'y':acell[1],'z':0}})\n",
    "    viewer.addLine({'start':{'x':0,'y':0,'z':0},'end':{'x':acell[0],'y':0,'z':0}})\n",
    "    viewer.addLine({'start':{'x':0,'y':acell[1],'z':acell[2]},'end':{'x':acell[0],'y':acell[1],'z':acell[2]}})\n",
    "    viewer.addLine({'start':{'x':acell[0],'y':0,'z':acell[2]},'end':{'x':acell[0],'y':acell[1],'z':acell[2]}})\n",
    "    viewer.addLine({'start':{'x':acell[0],'y':acell[1],'z':0},'end':{'x':acell[0],'y':acell[1],'z':acell[2]}})\n",
    "    viewer.addLine({'start':{'x':0,'y':acell[1],'z':0},'end':{'x':acell[0],'y':acell[1],'z':0}})\n",
    "    viewer.addLine({'start':{'x':acell[0],'y':0,'z':0},'end':{'x':acell[0],'y':acell[1],'z':0}})\n",
    "    viewer.addLine({'start':{'x':0,'y':0,'z':acell[2]},'end':{'x':0,'y':acell[1],'z':acell[2]}})\n",
    "    viewer.addLine({'start':{'x':0,'y':0,'z':acell[2]},'end':{'x':acell[0],'y':0,'z':acell[2]}})\n",
    "    viewer.addLine({'start':{'x':0,'y':acell[1],'z':0},'end':{'x':0,'y':acell[1],'z':acell[2]}})\n",
    "    viewer.addLine({'start':{'x':acell[0],'y':0,'z':0},'end':{'x':acell[0],'y':0,'z':acell[2]}})\n",
    "    viewer.zoomTo()\n",
    "    return viewer"
   ]
  },
  {
   "cell_type": "code",
   "execution_count": 44,
   "metadata": {
    "scrolled": false
   },
   "outputs": [
    {
     "data": {
      "application/vnd.jupyter.widget-view+json": {
       "model_id": "f8fee3784b38472191d59f5332979302",
       "version_major": 2,
       "version_minor": 0
      },
      "text/plain": [
       "interactive(children=(IntSlider(value=0, description='idx'), Dropdown(description='Style:', index=2, options=(…"
      ]
     },
     "metadata": {},
     "output_type": "display_data"
    },
    {
     "data": {
      "text/plain": [
       "<function __main__.style_selector(idx, s)>"
      ]
     },
     "execution_count": 44,
     "metadata": {},
     "output_type": "execute_result"
    }
   ],
   "source": [
    "def style_selector(idx, s):\n",
    "    conf = rundir+'/xyz/'+undercoordinated_atoms[idx]\n",
    "    return MolTo3DView(conf, style=s).show()\n",
    "\n",
    "interact(style_selector, \n",
    "         idx=ipywidgets.IntSlider(min=0,max=len(undercoordinated_atoms)-1, step=1),\n",
    "         s=ipywidgets.Dropdown(\n",
    "            options=['line', 'stick', 'sphere'],\n",
    "            value='sphere',\n",
    "            description='Style:'))"
   ]
  },
  {
   "cell_type": "markdown",
   "metadata": {},
   "source": [
    "## Growth rate extraction"
   ]
  },
  {
   "cell_type": "markdown",
   "metadata": {},
   "source": [
    "The following notebook allows to extract the growth rate from a Super lattice Kinetic Monte Carlo simulation with the mulskips code. It is supposed that you run mulskips for a flat (001) surface, that is \"F\" letter as input geometry in the file `start.dat` (see the tutorial to run the epitaxial growth of a surface with mulskips)."
   ]
  },
  {
   "cell_type": "markdown",
   "metadata": {},
   "source": [
    "Firstly, let set the folder where you ran mulskips.\n",
    "The script will extract the growth rate from the output \\*.xyz files."
   ]
  },
  {
   "cell_type": "markdown",
   "metadata": {},
   "source": [
    "To calculate the growth rate we have to extract the surface height z$^{\\text{surf}}_{\\text{ave}}$ at different KMC steps and the running time $t$. Then the growth rate $\\eta$ is\n",
    "\n",
    "$$ \\eta = \\frac{\\text{d} \\text{z}^{\\text{surf}}_{\\text{ave}}}{\\text{d}t}  $$\n",
    "\n",
    "Let start with the determination of the surface height z$^{\\text{surf}}_{\\text{ave}}$ from a generic output file of the undercoordinated atoms.\n",
    "To do that we divide the orthorhombic simulation box [x$_l$, y$_l$, z$_l$] in slices along the z-direction.\n",
    "The size of each z-slice in angstroem is defined by the variable `bin_size`.\n",
    "Essentially we are storing the z coordinates of all atoms in a histogram with bins of size `bin_size`."
   ]
  },
  {
   "cell_type": "code",
   "execution_count": 45,
   "metadata": {},
   "outputs": [],
   "source": [
    "bin_size = 5.0 # [Angstroem] size of the bins in the z direction to store all z-values in an histogram, 5 Angstroem should be ok"
   ]
  },
  {
   "cell_type": "markdown",
   "metadata": {},
   "source": [
    "Then we check the slice along z which contains the largest number of atoms.\n",
    "This z-slice corresponds in a first approximation to the region where the growing surface lies.\n",
    "We calculate the average z coordinate z$_{\\text{ave}}^{\\text{largest-bin}}$ for atoms belonging to such z-slice.\n",
    "Then we calculate z$^{\\text{surf}}_{\\text{ave}}$ as the average of the z-coordinate of all atoms falling in the range\n",
    "$|z-z_{\\text{ave}}^{\\text{largest-bin}}| < \\text{surface_roughness}$. To set the `surface_roughness` parameter it is recommended to have a look to the \\*.xyz files by means of a visualization software to evaluate the extension/quality of the surface roughness. "
   ]
  },
  {
   "cell_type": "code",
   "execution_count": 46,
   "metadata": {},
   "outputs": [],
   "source": [
    "surface_roughness = 10.0 # [Angstroem] surface roughness in the z direction where average the surface height."
   ]
  },
  {
   "cell_type": "markdown",
   "metadata": {},
   "source": [
    "All the above operation to get z$^{\\text{surf}}_{\\text{ave}}$ for a given KMC xyz file are coded in the `get_surface_height` function."
   ]
  },
  {
   "cell_type": "code",
   "execution_count": 47,
   "metadata": {},
   "outputs": [],
   "source": [
    "# Main function of the notebook to get the surface height from a rough surface.\n",
    "import numpy as np\n",
    "def get_surface_height(filename,bin_size=5.0,surface_roughness=20.0):\n",
    "    # bin_size [Angstroem] represents the size of the bins in the z direction to store all z-values in an histogram\n",
    "    # surface_roughness [Angstroem] represents the surface roughness in the z direction where average the surface height\n",
    "    with open (filename) as f:\n",
    "        content = f.read().splitlines()\n",
    "        line=content[0]\n",
    "        splitline = line.split()\n",
    "        nat = int(splitline[0]) # Total number of atoms\n",
    "        #print('nat: {}'.format(nat))\n",
    "        line=content[1]\n",
    "        splitline = line.split()\n",
    "        bc=str(splitline[0])\n",
    "        xl=float(splitline[1])\n",
    "        yl=float(splitline[2])\n",
    "        zl=float(splitline[3])\n",
    "        #print(zl)\n",
    "        lines=content[2:]\n",
    "        all_z_values = []\n",
    "        for line in lines:\n",
    "            splitline = line.split()\n",
    "            at=str(splitline[0])\n",
    "            x=float(splitline[1])\n",
    "            y=float(splitline[2])\n",
    "            z=float(splitline[3])\n",
    "            all_z_values.append(z)\n",
    "        #print(all_z_values)\n",
    "        #print(min(all_z_values))\n",
    "        #print(max(all_z_values))\n",
    "        z_range = max(all_z_values) - min(all_z_values)\n",
    "        if len(all_z_values) != nat:\n",
    "            print('error: nat and len(all_z_values) do not coincide')\n",
    "        databins=int(zl/bin_size)\n",
    "        #print(databins)\n",
    "        hist = np.histogram(all_z_values,bins=databins,range=(0.0, zl))\n",
    "        #print(hist[0])\n",
    "        maxIndexList = [i for i,j in enumerate(hist[0]) if j==max(hist[0])] #here,i=index and j = value of that index\n",
    "        #print(maxIndexList[0])\n",
    "        #print(hist[0][maxIndexList])\n",
    "        z_min = float(bin_size * maxIndexList[0])\n",
    "        z_max = float(z_min + bin_size)\n",
    "\n",
    "        # average of z-value within the bin with maximum number of elements\n",
    "        count = 0\n",
    "        z_sum = 0.0\n",
    "        for z in all_z_values:\n",
    "            if z > z_min and z < z_max:\n",
    "                count+=1\n",
    "                z_sum = z_sum + z \n",
    "        z_ave = float(z_sum/count)\n",
    "        #print(z_ave)\n",
    "        \n",
    "        # average of z-value for atoms falling in the range (z_ave-surface_roughness,z_ave+surface_roughness)\n",
    "        count = 0\n",
    "        z_sum = 0.0\n",
    "        z_min = z_ave - surface_roughness\n",
    "        z_max = z_ave + surface_roughness\n",
    "        for z in all_z_values:\n",
    "            if z > z_min and z < z_max:\n",
    "                count+=1\n",
    "                z_sum = z_sum + z \n",
    "        z_ave = float(z_sum/count)\n",
    "        #print(z_ave)   \n",
    "    return z_ave"
   ]
  },
  {
   "cell_type": "markdown",
   "metadata": {},
   "source": [
    "Here we calculate and store the surface height for all output files."
   ]
  },
  {
   "cell_type": "code",
   "execution_count": 48,
   "metadata": {},
   "outputs": [],
   "source": [
    "all_surface_heights = []\n",
    "for file in undercoordinated_atoms:\n",
    "    filename = rundir+'/xyz/'+file\n",
    "    surface_height = get_surface_height(filename)\n",
    "    all_surface_heights.append(surface_height)\n",
    "#print(all_surface_heights)"
   ]
  },
  {
   "cell_type": "markdown",
   "metadata": {},
   "source": [
    "Here we plot the surface height as a z$^{\\text{surf}}_{\\text{ave}}$ as function of the KMC steps."
   ]
  },
  {
   "cell_type": "code",
   "execution_count": 6,
   "metadata": {},
   "outputs": [
    {
     "ename": "NameError",
     "evalue": "name 'plt' is not defined",
     "output_type": "error",
     "traceback": [
      "\u001b[0;31m---------------------------------------------------------------------------\u001b[0m",
      "\u001b[0;31mNameError\u001b[0m                                 Traceback (most recent call last)",
      "\u001b[0;32m<ipython-input-6-11b3f2b45148>\u001b[0m in \u001b[0;36m<module>\u001b[0;34m\u001b[0m\n\u001b[0;32m----> 1\u001b[0;31m \u001b[0mplt\u001b[0m\u001b[0;34m.\u001b[0m\u001b[0mplot\u001b[0m\u001b[0;34m(\u001b[0m\u001b[0mall_surface_heights\u001b[0m\u001b[0;34m)\u001b[0m\u001b[0;34m\u001b[0m\u001b[0;34m\u001b[0m\u001b[0m\n\u001b[0m\u001b[1;32m      2\u001b[0m \u001b[0mplt\u001b[0m\u001b[0;34m.\u001b[0m\u001b[0mrcParams\u001b[0m\u001b[0;34m.\u001b[0m\u001b[0mupdate\u001b[0m\u001b[0;34m(\u001b[0m\u001b[0;34m{\u001b[0m\u001b[0;34m'font.size'\u001b[0m\u001b[0;34m:\u001b[0m \u001b[0;36m12\u001b[0m\u001b[0;34m}\u001b[0m\u001b[0;34m)\u001b[0m\u001b[0;34m\u001b[0m\u001b[0;34m\u001b[0m\u001b[0m\n\u001b[1;32m      3\u001b[0m \u001b[0mplt\u001b[0m\u001b[0;34m.\u001b[0m\u001b[0mxlabel\u001b[0m\u001b[0;34m(\u001b[0m\u001b[0;34m'KMC step'\u001b[0m\u001b[0;34m)\u001b[0m\u001b[0;34m\u001b[0m\u001b[0;34m\u001b[0m\u001b[0m\n\u001b[1;32m      4\u001b[0m \u001b[0mplt\u001b[0m\u001b[0;34m.\u001b[0m\u001b[0mylabel\u001b[0m\u001b[0;34m(\u001b[0m\u001b[0;34m'Surface height [$\\AA$]'\u001b[0m\u001b[0;34m)\u001b[0m\u001b[0;34m\u001b[0m\u001b[0;34m\u001b[0m\u001b[0m\n\u001b[1;32m      5\u001b[0m \u001b[0mplt\u001b[0m\u001b[0;34m.\u001b[0m\u001b[0mshow\u001b[0m\u001b[0;34m(\u001b[0m\u001b[0;34m)\u001b[0m\u001b[0;34m\u001b[0m\u001b[0;34m\u001b[0m\u001b[0m\n",
      "\u001b[0;31mNameError\u001b[0m: name 'plt' is not defined"
     ]
    }
   ],
   "source": [
    "plt.plot(all_surface_heights)\n",
    "plt.rcParams.update({'font.size': 12})\n",
    "plt.xlabel('KMC step')\n",
    "plt.ylabel('Surface height [$\\AA$]')\n",
    "plt.show()"
   ]
  },
  {
   "cell_type": "markdown",
   "metadata": {},
   "source": [
    "Here we extract the KMC time from the run output.\n",
    "When you run the mulskips code please store the screen output in the file log.txt:\n",
    "\n",
    "`<path-of-the-compiled-code>/mulskips.e` | tee log.txt"
   ]
  },
  {
   "cell_type": "code",
   "execution_count": 52,
   "metadata": {},
   "outputs": [],
   "source": [
    "def get_time(filename):\n",
    "    with open (filename) as f:\n",
    "        content = f.read().splitlines()\n",
    "        line=content[0]\n",
    "        splitline = line.split()\n",
    "        time = float(splitline[3]) # Total number of atoms\n",
    "    return time"
   ]
  },
  {
   "cell_type": "code",
   "execution_count": 53,
   "metadata": {},
   "outputs": [],
   "source": [
    "kmc_time_list = []\n",
    "for file in undercoordinated_atoms:\n",
    "    filename = rundir+'/xyz/'+file\n",
    "    time = get_time(filename)\n",
    "    kmc_time_list.append(time)\n",
    "#print(kmc_time_list)"
   ]
  },
  {
   "cell_type": "markdown",
   "metadata": {},
   "source": [
    "Here we have to convert the KMC time in the real process time. That depends on the calibration strategy.\n",
    "A reasonable rescale can be obtained with a constant jump frequency $\\nu = 10^{-12}$ s."
   ]
  },
  {
   "cell_type": "code",
   "execution_count": 54,
   "metadata": {},
   "outputs": [],
   "source": [
    "nu = 1.0 # 1.0e-12 # jump frequency"
   ]
  },
  {
   "cell_type": "code",
   "execution_count": 55,
   "metadata": {},
   "outputs": [],
   "source": [
    "time_list = [i * nu for i in kmc_time_list]"
   ]
  },
  {
   "cell_type": "markdown",
   "metadata": {},
   "source": [
    "Here we plot the surface height as a z$^{\\text{surf}}_{\\text{ave}}$ as function of the procee time."
   ]
  },
  {
   "cell_type": "code",
   "execution_count": 7,
   "metadata": {},
   "outputs": [
    {
     "ename": "NameError",
     "evalue": "name 'plt' is not defined",
     "output_type": "error",
     "traceback": [
      "\u001b[0;31m---------------------------------------------------------------------------\u001b[0m",
      "\u001b[0;31mNameError\u001b[0m                                 Traceback (most recent call last)",
      "\u001b[0;32m<ipython-input-7-90c94702e524>\u001b[0m in \u001b[0;36m<module>\u001b[0;34m\u001b[0m\n\u001b[0;32m----> 1\u001b[0;31m \u001b[0mplt\u001b[0m\u001b[0;34m.\u001b[0m\u001b[0mplot\u001b[0m\u001b[0;34m(\u001b[0m\u001b[0mtime_list\u001b[0m\u001b[0;34m,\u001b[0m\u001b[0mall_surface_heights\u001b[0m\u001b[0;34m)\u001b[0m\u001b[0;34m\u001b[0m\u001b[0;34m\u001b[0m\u001b[0m\n\u001b[0m\u001b[1;32m      2\u001b[0m \u001b[0mplt\u001b[0m\u001b[0;34m.\u001b[0m\u001b[0mrcParams\u001b[0m\u001b[0;34m.\u001b[0m\u001b[0mupdate\u001b[0m\u001b[0;34m(\u001b[0m\u001b[0;34m{\u001b[0m\u001b[0;34m'font.size'\u001b[0m\u001b[0;34m:\u001b[0m \u001b[0;36m12\u001b[0m\u001b[0;34m}\u001b[0m\u001b[0;34m)\u001b[0m\u001b[0;34m\u001b[0m\u001b[0;34m\u001b[0m\u001b[0m\n\u001b[1;32m      3\u001b[0m \u001b[0mplt\u001b[0m\u001b[0;34m.\u001b[0m\u001b[0mxlabel\u001b[0m\u001b[0;34m(\u001b[0m\u001b[0;34m'time [s]'\u001b[0m\u001b[0;34m)\u001b[0m\u001b[0;34m\u001b[0m\u001b[0;34m\u001b[0m\u001b[0m\n\u001b[1;32m      4\u001b[0m \u001b[0mplt\u001b[0m\u001b[0;34m.\u001b[0m\u001b[0mylabel\u001b[0m\u001b[0;34m(\u001b[0m\u001b[0;34m'Surface height [$\\AA$]'\u001b[0m\u001b[0;34m)\u001b[0m\u001b[0;34m\u001b[0m\u001b[0;34m\u001b[0m\u001b[0m\n\u001b[1;32m      5\u001b[0m \u001b[0mplt\u001b[0m\u001b[0;34m.\u001b[0m\u001b[0mticklabel_format\u001b[0m\u001b[0;34m(\u001b[0m\u001b[0maxis\u001b[0m\u001b[0;34m=\u001b[0m\u001b[0;34m'x'\u001b[0m\u001b[0;34m,\u001b[0m\u001b[0mstyle\u001b[0m\u001b[0;34m=\u001b[0m\u001b[0;34m'sci'\u001b[0m\u001b[0;34m,\u001b[0m\u001b[0mscilimits\u001b[0m\u001b[0;34m=\u001b[0m\u001b[0;34m(\u001b[0m\u001b[0;36m0\u001b[0m\u001b[0;34m,\u001b[0m\u001b[0;36m0\u001b[0m\u001b[0;34m)\u001b[0m\u001b[0;34m)\u001b[0m\u001b[0;34m\u001b[0m\u001b[0;34m\u001b[0m\u001b[0m\n",
      "\u001b[0;31mNameError\u001b[0m: name 'plt' is not defined"
     ]
    }
   ],
   "source": [
    "plt.plot(time_list,all_surface_heights)\n",
    "plt.rcParams.update({'font.size': 12})\n",
    "plt.xlabel('time [s]')\n",
    "plt.ylabel('Surface height [$\\AA$]')\n",
    "plt.ticklabel_format(axis='x',style='sci',scilimits=(0,0))\n",
    "plt.show()"
   ]
  },
  {
   "cell_type": "code",
   "execution_count": 57,
   "metadata": {},
   "outputs": [],
   "source": [
    "def get_growth_rate(time_list,all_surface_heights):\n",
    "    gr = []\n",
    "    dx = all_surface_heights[1] - all_surface_heights[0]\n",
    "    dt = time_list[1] - time_list[0]\n",
    "    curr_gr = dx / dt\n",
    "    gr.append(curr_gr)\n",
    "    for ind in range(len(time_list)-2):\n",
    "        ind = ind+1\n",
    "        dx = all_surface_heights[ind+1] - all_surface_heights[ind-1]\n",
    "        dt = time_list[ind+1] - time_list[ind-1]\n",
    "        curr_gr = dx / dt\n",
    "        gr.append(curr_gr)\n",
    "    dx = all_surface_heights[-1] - all_surface_heights[-2]\n",
    "    dt = (time_list[-1] - time_list[-2]) # [s]\n",
    "    curr_gr = (dx / dt)*3600*1e-4 # [micron/hour] \n",
    "    gr.append(curr_gr)\n",
    "    return gr"
   ]
  },
  {
   "cell_type": "code",
   "execution_count": 58,
   "metadata": {},
   "outputs": [],
   "source": [
    "growth_rate = get_growth_rate(time_list,all_surface_heights)"
   ]
  },
  {
   "cell_type": "code",
   "execution_count": 8,
   "metadata": {},
   "outputs": [
    {
     "ename": "NameError",
     "evalue": "name 'plt' is not defined",
     "output_type": "error",
     "traceback": [
      "\u001b[0;31m---------------------------------------------------------------------------\u001b[0m",
      "\u001b[0;31mNameError\u001b[0m                                 Traceback (most recent call last)",
      "\u001b[0;32m<ipython-input-8-329227edad9f>\u001b[0m in \u001b[0;36m<module>\u001b[0;34m\u001b[0m\n\u001b[0;32m----> 1\u001b[0;31m \u001b[0mplt\u001b[0m\u001b[0;34m.\u001b[0m\u001b[0mplot\u001b[0m\u001b[0;34m(\u001b[0m\u001b[0mtime_list\u001b[0m\u001b[0;34m,\u001b[0m\u001b[0mgrowth_rate\u001b[0m\u001b[0;34m)\u001b[0m\u001b[0;34m\u001b[0m\u001b[0;34m\u001b[0m\u001b[0m\n\u001b[0m\u001b[1;32m      2\u001b[0m \u001b[0mplt\u001b[0m\u001b[0;34m.\u001b[0m\u001b[0mrcParams\u001b[0m\u001b[0;34m.\u001b[0m\u001b[0mupdate\u001b[0m\u001b[0;34m(\u001b[0m\u001b[0;34m{\u001b[0m\u001b[0;34m'font.size'\u001b[0m\u001b[0;34m:\u001b[0m \u001b[0;36m12\u001b[0m\u001b[0;34m}\u001b[0m\u001b[0;34m)\u001b[0m\u001b[0;34m\u001b[0m\u001b[0;34m\u001b[0m\u001b[0m\n\u001b[1;32m      3\u001b[0m \u001b[0mplt\u001b[0m\u001b[0;34m.\u001b[0m\u001b[0mxlabel\u001b[0m\u001b[0;34m(\u001b[0m\u001b[0;34m'time [s]'\u001b[0m\u001b[0;34m)\u001b[0m\u001b[0;34m\u001b[0m\u001b[0;34m\u001b[0m\u001b[0m\n\u001b[1;32m      4\u001b[0m \u001b[0mplt\u001b[0m\u001b[0;34m.\u001b[0m\u001b[0mylabel\u001b[0m\u001b[0;34m(\u001b[0m\u001b[0;34m'Growth rate $\\eta$ [micron/hour]'\u001b[0m\u001b[0;34m)\u001b[0m\u001b[0;34m\u001b[0m\u001b[0;34m\u001b[0m\u001b[0m\n\u001b[1;32m      5\u001b[0m \u001b[0mplt\u001b[0m\u001b[0;34m.\u001b[0m\u001b[0mticklabel_format\u001b[0m\u001b[0;34m(\u001b[0m\u001b[0maxis\u001b[0m\u001b[0;34m=\u001b[0m\u001b[0;34m'x'\u001b[0m\u001b[0;34m,\u001b[0m\u001b[0mstyle\u001b[0m\u001b[0;34m=\u001b[0m\u001b[0;34m'sci'\u001b[0m\u001b[0;34m,\u001b[0m\u001b[0mscilimits\u001b[0m\u001b[0;34m=\u001b[0m\u001b[0;34m(\u001b[0m\u001b[0;36m0\u001b[0m\u001b[0;34m,\u001b[0m\u001b[0;36m0\u001b[0m\u001b[0;34m)\u001b[0m\u001b[0;34m)\u001b[0m\u001b[0;34m\u001b[0m\u001b[0;34m\u001b[0m\u001b[0m\n",
      "\u001b[0;31mNameError\u001b[0m: name 'plt' is not defined"
     ]
    }
   ],
   "source": [
    "plt.plot(time_list,growth_rate)\n",
    "plt.rcParams.update({'font.size': 12})\n",
    "plt.xlabel('time [s]')\n",
    "plt.ylabel('Growth rate $\\eta$ [micron/hour]')\n",
    "plt.ticklabel_format(axis='x',style='sci',scilimits=(0,0))\n",
    "plt.title('Process ID: {}'.format(key))\n",
    "plt.show()"
   ]
  },
  {
   "cell_type": "code",
   "execution_count": 60,
   "metadata": {},
   "outputs": [],
   "source": [
    "def get_ave_growth_rate(growth_rate):\n",
    "    l=len(growth_rate)\n",
    "    vect=growth_rate[5:l-5]\n",
    "    ave=sum(vect)/len(vect)\n",
    "    ave = '%.2f'% ave\n",
    "    return ave"
   ]
  },
  {
   "cell_type": "code",
   "execution_count": 61,
   "metadata": {},
   "outputs": [
    {
     "name": "stdout",
     "output_type": "stream",
     "text": [
      "Average growth rate for Process ID 151: 119.20 [micron/hour]\n"
     ]
    }
   ],
   "source": [
    "print('Average growth rate for Process ID {}: {} [micron/hour]'.format(key,get_ave_growth_rate(growth_rate)))"
   ]
  },
  {
   "cell_type": "code",
   "execution_count": null,
   "metadata": {},
   "outputs": [],
   "source": []
  }
 ],
 "metadata": {
  "kernelspec": {
   "display_name": "Python 3",
   "language": "python",
   "name": "python3"
  },
  "language_info": {
   "codemirror_mode": {
    "name": "ipython",
    "version": 3
   },
   "file_extension": ".py",
   "mimetype": "text/x-python",
   "name": "python",
   "nbconvert_exporter": "python",
   "pygments_lexer": "ipython3",
   "version": "3.6.12"
  },
  "varInspector": {
   "cols": {
    "lenName": 16,
    "lenType": 16,
    "lenVar": 40
   },
   "kernels_config": {
    "python": {
     "delete_cmd_postfix": "",
     "delete_cmd_prefix": "del ",
     "library": "var_list.py",
     "varRefreshCmd": "print(var_dic_list())"
    },
    "r": {
     "delete_cmd_postfix": ") ",
     "delete_cmd_prefix": "rm(",
     "library": "var_list.r",
     "varRefreshCmd": "cat(var_dic_list()) "
    }
   },
   "types_to_exclude": [
    "module",
    "function",
    "builtin_function_or_method",
    "instance",
    "_Feature"
   ],
   "window_display": false
  }
 },
 "nbformat": 4,
 "nbformat_minor": 2
}
