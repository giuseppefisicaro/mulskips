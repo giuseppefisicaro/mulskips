{
 "cells": [
  {
   "cell_type": "markdown",
   "metadata": {},
   "source": [
    "# Calibration and generation of the input file for 3C-SiC chemical vapor deposition"
   ]
  },
  {
   "cell_type": "markdown",
   "metadata": {},
   "source": [
    "## Variables to be set"
   ]
  },
  {
   "cell_type": "markdown",
   "metadata": {},
   "source": [
    "This notebook allows to set up a calibartion for 3C-SiC and to generate the input file `start.dat` of mulskips code. This calibration is the one employed in the manuscript \"G. Fisicaro et al. Appl. Phys. Rev. 7(2) 021402 (2020)\"."
   ]
  },
  {
   "cell_type": "code",
   "execution_count": 1,
   "metadata": {},
   "outputs": [],
   "source": [
    "# Temperature of the epitaxial process [K]\n",
    "Temp = 1500\n",
    "\n",
    "# Probability for the stacking fault generation\n",
    "PtransZig = 1.0\n",
    "\n",
    "# Set the super lattice KMC box\n",
    "box = [480,480,960]\n",
    "\n",
    "# Variable to set for the initial system:\n",
    "# S Sphere\n",
    "# C Parellelepipid\n",
    "# F Flat (100) surface\n",
    "# A Antiphase boundary APB\n",
    "# I inverted pyramid\n",
    "# D inverted pyramid of C\n",
    "# Z inverted pyramid of Si\n",
    "# J inverted pyramid with APB\n",
    "Simulation = \"F\"\n",
    "\n",
    "# Size of the initial system\n",
    "Seed_box = [120, 120, 120] # Len1 Len2 Len3"
   ]
  },
  {
   "cell_type": "markdown",
   "metadata": {},
   "source": [
    "## Evaporation Frequencies"
   ]
  },
  {
   "cell_type": "markdown",
   "metadata": {},
   "source": [
    "Generation of the evaporation frequencies."
   ]
  },
  {
   "cell_type": "markdown",
   "metadata": {},
   "source": [
    "### Ab-initio energetics"
   ]
  },
  {
   "cell_type": "code",
   "execution_count": 2,
   "metadata": {},
   "outputs": [],
   "source": [
    "import numpy as np\n",
    "import math\n",
    "kb=8.617330350e-5 # [eV/K]\n",
    "kbJ=1.3806485279e-23 # [J/K]\n",
    "NA=6.02214085774e23 # [mol^-1]\n",
    "pi=3.141592653589793"
   ]
  },
  {
   "cell_type": "code",
   "execution_count": 3,
   "metadata": {},
   "outputs": [],
   "source": [
    "kT=kb*Temp"
   ]
  },
  {
   "cell_type": "code",
   "execution_count": 4,
   "metadata": {},
   "outputs": [
    {
     "name": "stdout",
     "output_type": "stream",
     "text": [
      "0.12925995525\n"
     ]
    }
   ],
   "source": [
    "print(kT)"
   ]
  },
  {
   "cell_type": "code",
   "execution_count": 5,
   "metadata": {},
   "outputs": [],
   "source": [
    "ESi=np.zeros((4, 4)) # Si energetics of evaporation in eV\n",
    "EC=np.zeros((4, 4)) # C energetics of evaporation in eV"
   ]
  },
  {
   "cell_type": "code",
   "execution_count": 6,
   "metadata": {},
   "outputs": [],
   "source": [
    "f=4 # factor for the energetics interpolation"
   ]
  },
  {
   "cell_type": "code",
   "execution_count": 7,
   "metadata": {},
   "outputs": [],
   "source": [
    "# Coordination 1 of Si from 111 C-terminated 4x1x2 bigdft surface\n",
    "ESi[0,1]= -6.83 # -4.39 BigDFT # -6.83 # QE \n",
    "# Coordination 2 of Si from 100 Si-terminated 3x1x3 dimer surface\n",
    "ESi[0,2]=-7.04\n",
    "# Coordination 3 of Si from 111 Si-terminated 4x1x2 surface\n",
    "ESi[0,3]=-7.77\n",
    "# Coordination 1 of Si adatom optimized on 111 Si-terminated 4x1x2 surface\n",
    "ESi[1,0]=-6.72\n",
    "ESi[1,1]=(f*ESi[1,0]+ESi[0,2])/(f+1) # -6.8 # ESi[1,0] < ESi[1,1] < ESi[0,2]\n",
    "ESi[1,2]=(f*ESi[0,2]+ESi[0,3])/(f+1) # -6.8 # ESi[0,2] < ESi[1,2] < ESi[0,3]\n",
    "ESi[2,1]=(f*ESi[1,1]+ESi[0,3])/(f+1) # -6.8 # ESi[1,1] < ESi[2,1] < ESi[0,3]\n",
    "ESi[2,0]=(f*ESi[1,0]+ESi[2,1])/(f+1) # -6.8 # ESi[1,0] < ESi[2,0] < ESi[2,1]\n",
    "ESi[3,0]=(f*ESi[2,0]+ESi[2,1])/(f+1) # -6.8 # ESi[2,0] < ESi[3,0] < ESi[2,1]"
   ]
  },
  {
   "cell_type": "code",
   "execution_count": 8,
   "metadata": {},
   "outputs": [
    {
     "name": "stdout",
     "output_type": "stream",
     "text": [
      "[[ 0.       -6.83     -7.04     -7.77    ]\n",
      " [-6.72     -6.784    -7.186     0.      ]\n",
      " [-6.77224  -6.9812    0.        0.      ]\n",
      " [-6.814032  0.        0.        0.      ]]\n"
     ]
    }
   ],
   "source": [
    "print(ESi)"
   ]
  },
  {
   "cell_type": "code",
   "execution_count": 9,
   "metadata": {},
   "outputs": [],
   "source": [
    "# Coordination 1 of C from 111 Si-terminated 4x1x2 surface\n",
    "EC[1,0]=-9.10\n",
    "# Coordination 2 of C from 100 C-terminated 3x1x3 dimer surface\n",
    "EC[2,0]=-11.43\n",
    "# Coordination 3 of C from 111 C-terminated 4x1x2 bigdft surface\n",
    "EC[3,0]=-11.80\n",
    "# Coordination 1 of C adatom optimized on 111 C-terminated 4x1x2 bigdft surface\n",
    "EC[0,1]=-7.76\n",
    "EC[1,1]= (f*EC[1,0]+EC[2,0])/(f+1) #  -9.8 # EC[1,0] < EC[1,1] < EC[2,0]\n",
    "EC[1,2]= (f*EC[1,1]+EC[3,0])/(f+1) # -10.0 # EC[1,1] < EC[1,2] < EC[3,0]\n",
    "EC[0,2]= (f*EC[0,1]+EC[1,2])/(f+1) # -8.1 # EC[0,1] < EC[0,2] < EC[1,2] \n",
    "EC[2,1]= (f*EC[2,0]+EC[3,0])/(f+1) # -11.6 # EC[2,0] < EC[2,1] < EC[3,0]\n",
    "EC[0,3]= (f*EC[0,2]+EC[1,2])/(f+1) # -9.1 # EC[0,2] < EC[0,3] < EC[1,2]"
   ]
  },
  {
   "cell_type": "code",
   "execution_count": 10,
   "metadata": {},
   "outputs": [
    {
     "name": "stdout",
     "output_type": "stream",
     "text": [
      "[[  0.        -7.76      -8.21056   -8.571008]\n",
      " [ -9.1       -9.566    -10.0128     0.      ]\n",
      " [-11.43     -11.504      0.         0.      ]\n",
      " [-11.8        0.         0.         0.      ]]\n"
     ]
    }
   ],
   "source": [
    "print(EC)"
   ]
  },
  {
   "cell_type": "markdown",
   "metadata": {},
   "source": [
    "### Langmuir prefactor"
   ]
  },
  {
   "cell_type": "markdown",
   "metadata": {},
   "source": [
    "Following we derive prefactors for the evaporation rates starting from the experimental partial pressures of Lilov 1993's work."
   ]
  },
  {
   "cell_type": "code",
   "execution_count": 11,
   "metadata": {},
   "outputs": [],
   "source": [
    "A_1={'Si':-27499.8,'Si2C':-34177.2,'SiC2':-34075.8}      # Temperature range 1500-2000 [K]\n",
    "A_2={'Si':-27261.32,'Si2C':-33500.33,'SiC2':-33526.61}   # Temperature range 2000-2546 [K]\n",
    "B_1={'Si':12.8114,'Si2C':15.1877,'SiC2':15.4274}         # Temperature range 1500-2000 [K]\n",
    "B_2={'Si':12.6921,'Si2C':14.8493,'SiC2':15.1528}         # Temperature range 2000-2546 [K]"
   ]
  },
  {
   "cell_type": "code",
   "execution_count": 12,
   "metadata": {},
   "outputs": [],
   "source": [
    "Pexp={} # [N/m^2]\n",
    "if 1500 <= Temp <=2000:\n",
    "    ele='Si'\n",
    "    Pexp[ele]=math.exp(A_1[ele]/Temp+B_1[ele])\n",
    "    ele='Si2C'\n",
    "    Pexp[ele]=math.exp(A_1[ele]/Temp+B_1[ele])\n",
    "    ele='SiC2'\n",
    "    Pexp[ele]=math.exp(A_1[ele]/Temp+B_1[ele])\n",
    "elif 2000 < Temp <=2546:\n",
    "    ele='Si'\n",
    "    Pexp[ele]=math.exp(A_2[ele]/Temp+B_2[ele])\n",
    "    ele='Si2C'\n",
    "    Pexp[ele]=math.exp(A_2[ele]/Temp+B_2[ele])\n",
    "    ele='SiC2'\n",
    "    Pexp[ele]=math.exp(A_2[ele]/Temp+B_2[ele])\n",
    "else:\n",
    "    print(\"error, temperature range not yet implemented.\")"
   ]
  },
  {
   "cell_type": "code",
   "execution_count": 13,
   "metadata": {},
   "outputs": [
    {
     "name": "stdout",
     "output_type": "stream",
     "text": [
      "{'Si': 0.0039986439013764, 'Si2C': 0.0005019048490315947, 'SiC2': 0.0006824645320143978}\n"
     ]
    }
   ],
   "source": [
    "print(Pexp)"
   ]
  },
  {
   "cell_type": "code",
   "execution_count": 14,
   "metadata": {},
   "outputs": [],
   "source": [
    "mC=12\n",
    "mSi=28"
   ]
  },
  {
   "cell_type": "code",
   "execution_count": 15,
   "metadata": {},
   "outputs": [],
   "source": [
    "PSi=Pexp['Si']+(2*mSi/(2*mSi+mC))*Pexp['Si2C']+(mSi/(mSi+2*mC))*Pexp['SiC2'] # [N/m^2]"
   ]
  },
  {
   "cell_type": "code",
   "execution_count": 16,
   "metadata": {},
   "outputs": [],
   "source": [
    "PC=(mC/(2*mSi+mC))*Pexp['Si2C']+(2*mC/(mSi+2*mC))*Pexp['SiC2'] # [N/m^2]"
   ]
  },
  {
   "cell_type": "code",
   "execution_count": 17,
   "metadata": {},
   "outputs": [
    {
     "name": "stdout",
     "output_type": "stream",
     "text": [
      "0.004779458208315149\n"
     ]
    }
   ],
   "source": [
    "print(PSi)"
   ]
  },
  {
   "cell_type": "code",
   "execution_count": 18,
   "metadata": {},
   "outputs": [
    {
     "name": "stdout",
     "output_type": "stream",
     "text": [
      "0.00040355507410724334\n"
     ]
    }
   ],
   "source": [
    "print(PC)"
   ]
  },
  {
   "cell_type": "markdown",
   "metadata": {},
   "source": [
    "### Langmuir setup for evaporation probabilities"
   ]
  },
  {
   "cell_type": "code",
   "execution_count": 19,
   "metadata": {},
   "outputs": [],
   "source": [
    "Bolt_Si=np.zeros((4, 4)) # Probabilities of Si\n",
    "Bolt_C=np.zeros((4, 4)) # Probabilities of C\n",
    "#shift_Si = 6.5\n",
    "#shift_C = 11.0"
   ]
  },
  {
   "cell_type": "code",
   "execution_count": 20,
   "metadata": {},
   "outputs": [],
   "source": [
    "Bolt_Si=np.exp(ESi/kT)\n",
    "Bolt_C =np.exp(EC/kT)"
   ]
  },
  {
   "cell_type": "code",
   "execution_count": 21,
   "metadata": {},
   "outputs": [],
   "source": [
    "sum_Si=Bolt_Si[0,2]\n",
    "sum_C=Bolt_C[2,0]"
   ]
  },
  {
   "cell_type": "code",
   "execution_count": 22,
   "metadata": {},
   "outputs": [
    {
     "name": "stdout",
     "output_type": "stream",
     "text": [
      "[[1.00000000e+00 1.12772249e-23 2.22143217e-24 7.83321736e-27]\n",
      " [2.64110763e-23 1.60973909e-23 7.17950465e-25 1.00000000e+00]\n",
      " [1.76306111e-23 3.50100256e-24 1.00000000e+00 1.00000000e+00]\n",
      " [1.27600501e-23 1.00000000e+00 1.00000000e+00 1.00000000e+00]]\n"
     ]
    }
   ],
   "source": [
    "print(Bolt_Si)"
   ]
  },
  {
   "cell_type": "code",
   "execution_count": 23,
   "metadata": {},
   "outputs": [
    {
     "name": "stdout",
     "output_type": "stream",
     "text": [
      "[[1.00000000e+00 8.46328002e-27 2.59252663e-28 1.59467005e-29]\n",
      " [2.66278035e-31 7.23841909e-33 2.28276544e-34 1.00000000e+00]\n",
      " [3.95254888e-39 2.22970860e-39 1.00000000e+00 1.00000000e+00]\n",
      " [2.25803955e-40 1.00000000e+00 1.00000000e+00 1.00000000e+00]]\n"
     ]
    }
   ],
   "source": [
    "print(Bolt_C)"
   ]
  },
  {
   "cell_type": "code",
   "execution_count": 24,
   "metadata": {},
   "outputs": [],
   "source": [
    "PvSi=PSi*Bolt_Si/sum_Si # [N/m^2]"
   ]
  },
  {
   "cell_type": "code",
   "execution_count": 25,
   "metadata": {},
   "outputs": [],
   "source": [
    "PvC=PC*Bolt_C/sum_C # [N/m^2]"
   ]
  },
  {
   "cell_type": "code",
   "execution_count": 26,
   "metadata": {},
   "outputs": [
    {
     "name": "stdout",
     "output_type": "stream",
     "text": [
      "[[2.15152111e+21 2.42631874e-02 4.77945821e-03 1.68533325e-05]\n",
      " [5.68239882e-02 3.46338764e-02 1.54468558e-03 2.15152111e+21]\n",
      " [3.79326319e-02 7.53248092e-03 2.15152111e+21 2.15152111e+21]\n",
      " [2.74535171e-02 2.15152111e+21 2.15152111e+21 2.15152111e+21]]\n"
     ]
    }
   ],
   "source": [
    "print(PvSi)"
   ]
  },
  {
   "cell_type": "code",
   "execution_count": 27,
   "metadata": {},
   "outputs": [
    {
     "name": "stdout",
     "output_type": "stream",
     "text": [
      "[[1.02099958e+35 8.64100533e+08 2.64696859e+07 1.62815745e+06]\n",
      " [2.71869761e+04 7.39042284e+02 2.33070255e+01 1.02099958e+35]\n",
      " [4.03555074e-04 2.27653154e-04 1.02099958e+35 1.02099958e+35]\n",
      " [2.30545742e-05 1.02099958e+35 1.02099958e+35 1.02099958e+35]]\n"
     ]
    }
   ],
   "source": [
    "print(PvC)"
   ]
  },
  {
   "cell_type": "code",
   "execution_count": 28,
   "metadata": {},
   "outputs": [],
   "source": [
    "EvSi=PvSi*math.sqrt(mSi/(NA*2.0*pi*kbJ*Temp)) # [kg/(m^2 s)] # to be checked shold be [at/s]"
   ]
  },
  {
   "cell_type": "code",
   "execution_count": 29,
   "metadata": {},
   "outputs": [],
   "source": [
    "EvC=PvC*math.sqrt(mC/(NA*2.0*pi*kbJ*Temp))"
   ]
  },
  {
   "cell_type": "code",
   "execution_count": 30,
   "metadata": {},
   "outputs": [
    {
     "name": "stdout",
     "output_type": "stream",
     "text": [
      "[[4.06698005e+19 4.58642486e-04 9.03452031e-05 3.18575387e-07]\n",
      " [1.07413320e-03 6.54677677e-04 2.91989022e-05 4.06698005e+19]\n",
      " [7.17033435e-04 1.42385076e-04 4.06698005e+19 4.06698005e+19]\n",
      " [5.18948690e-04 4.06698005e+19 4.06698005e+19 4.06698005e+19]]\n"
     ]
    }
   ],
   "source": [
    "print(EvSi)"
   ]
  },
  {
   "cell_type": "code",
   "execution_count": 31,
   "metadata": {},
   "outputs": [
    {
     "name": "stdout",
     "output_type": "stream",
     "text": [
      "[[1.26346612e+33 1.06930675e+07 3.27556956e+05 2.01481158e+04]\n",
      " [3.36433275e+02 9.14549727e+00 2.88419679e-01 1.26346612e+33]\n",
      " [4.99391159e-06 2.81716127e-06 1.26346612e+33 1.26346612e+33]\n",
      " [2.85295646e-07 1.26346612e+33 1.26346612e+33 1.26346612e+33]]\n"
     ]
    }
   ],
   "source": [
    "print(EvC)"
   ]
  },
  {
   "cell_type": "code",
   "execution_count": 32,
   "metadata": {},
   "outputs": [],
   "source": [
    "PtransE_Si=EvSi\n",
    "PtransE_C=EvC"
   ]
  },
  {
   "cell_type": "markdown",
   "metadata": {},
   "source": [
    "## Deposition Frequencies"
   ]
  },
  {
   "cell_type": "markdown",
   "metadata": {},
   "source": [
    "We calibrated the deposition frequencies from the experimental inverted pyramid growth along the [001] direction with marker layers."
   ]
  },
  {
   "cell_type": "code",
   "execution_count": 33,
   "metadata": {},
   "outputs": [],
   "source": [
    "PtransD=np.zeros(6)"
   ]
  },
  {
   "cell_type": "code",
   "execution_count": 34,
   "metadata": {},
   "outputs": [],
   "source": [
    "fact_D = [1.10546, 200.0, 0.276365, 2.5, 44.2184, 400.0]"
   ]
  },
  {
   "cell_type": "code",
   "execution_count": 35,
   "metadata": {},
   "outputs": [],
   "source": [
    "PtransD[0]=fact_D[0]*PtransE_Si[0,2] # Si coord 1, old 1\n",
    "PtransD[1]=fact_D[1]*PtransE_C[2,0] # C  coord 1, old 1\n",
    "PtransD[2]=fact_D[2]*PtransE_Si[0,2] # Si coord 2, old 2\n",
    "PtransD[3]=fact_D[3]*PtransE_C[2,0]  # C  coord 2, old 2\n",
    "PtransD[4]=fact_D[4]*PtransE_Si[0,2] # Si coord 3, old 20\n",
    "PtransD[5]=fact_D[5]*PtransE_C[2,0] # C  coord 3, old 20"
   ]
  },
  {
   "cell_type": "code",
   "execution_count": 36,
   "metadata": {},
   "outputs": [
    {
     "name": "stdout",
     "output_type": "stream",
     "text": [
      "[9.98730082e-05 9.98782319e-04 2.49682521e-05 1.24847790e-05\n",
      " 3.99492033e-03 1.99756464e-03]\n"
     ]
    }
   ],
   "source": [
    "print(PtransD)"
   ]
  },
  {
   "cell_type": "markdown",
   "metadata": {},
   "source": [
    "## Generation of the kinetic Monte Carlo input file"
   ]
  },
  {
   "cell_type": "code",
   "execution_count": 38,
   "metadata": {},
   "outputs": [],
   "source": [
    "filename=\"start.dat\""
   ]
  },
  {
   "cell_type": "code",
   "execution_count": 39,
   "metadata": {},
   "outputs": [],
   "source": [
    "def print_file_input(filename,PtransE_Si,PtransE_C,PtransD,PtransZig,Simulation,Sedd_box):\n",
    "    file = open(filename,\"w\") \n",
    "\n",
    "    file.write(str(PtransE_Si[0,1])+\" ! PtransE_Si[0,1]\" + \"\\n\") \n",
    "    file.write(str(PtransE_Si[1,0])+\" ! PtransE_Si[1,0]\" + \"\\n\")\n",
    "    file.write(str(PtransE_Si[1,1])+\" ! PtransE_Si[1,1]\" + \"\\n\") \n",
    "    file.write(str(PtransE_Si[0,2])+\" ! PtransE_Si[0,2]\" + \"\\n\") \n",
    "    file.write(str(PtransE_Si[2,0])+\" ! PtransE_Si[2,0]\" + \"\\n\") \n",
    "    file.write(str(PtransE_Si[2,1])+\" ! PtransE_Si[2,1]\" + \"\\n\") \n",
    "    file.write(str(PtransE_Si[1,2])+\" ! PtransE_Si[1,2]\" + \"\\n\") \n",
    "    file.write(str(PtransE_Si[0,3])+\" ! PtransE_Si[0,3]\" + \"\\n\") \n",
    "    file.write(str(PtransE_Si[3,0])+\" ! PtransE_Si[3,0]\" + \"\\n\") \n",
    "\n",
    "    file.write(str(PtransE_C[0,1])+\" ! PtransE_C[0,1]\" + \"\\n\") \n",
    "    file.write(str(PtransE_C[1,0])+\" ! PtransE_C[1,0]\" + \"\\n\")\n",
    "    file.write(str(PtransE_C[1,1])+\" ! PtransE_C[1,1]\" + \"\\n\") \n",
    "    file.write(str(PtransE_C[0,2])+\" ! PtransE_C[0,2]\" + \"\\n\") \n",
    "    file.write(str(PtransE_C[2,0])+\" ! PtransE_C[2,0]\" + \"\\n\") \n",
    "    file.write(str(PtransE_C[2,1])+\" ! PtransE_C[2,1]\" + \"\\n\") \n",
    "    file.write(str(PtransE_C[1,2])+\" ! PtransE_C[1,2]\" + \"\\n\") \n",
    "    file.write(str(PtransE_C[0,3])+\" ! PtransE_C[0,3]\" + \"\\n\") \n",
    "    file.write(str(PtransE_C[3,0])+\" ! PtransE_C[3,0]\" + \"\\n\") \n",
    "\n",
    "    file.write(str(PtransD[0])+\" ! PtransD[1]\" + \"\\n\") \n",
    "    file.write(str(PtransD[1])+\" ! PtransD[2]\" + \"\\n\") \n",
    "    file.write(str(PtransD[2])+\" ! PtransD[3]\" + \"\\n\") \n",
    "    file.write(str(PtransD[3])+\" ! PtransD[4]\" + \"\\n\") \n",
    "    file.write(str(PtransD[4])+\" ! PtransD[5]\" + \"\\n\") \n",
    "    file.write(str(PtransD[5])+\" ! PtransD[6]\" + \"\\n\") \n",
    "\n",
    "    file.write(str(PtransZig)+\" ! PtransZig\" + \"\\n\")\n",
    "\n",
    "    file.write(Simulation+\" ! Initstat: S Sphere, C Parellelepipid, F Flat (100) surface, A APB, I inverted pyramid, D inverted pyramid of C, Z inverted pyramid of Si, J inverted pyramid with APB \" +  \"\\n\")\n",
    "\n",
    "    Sys_size=str(Seed_box[0])+' '+str(Seed_box[1])+' '+str(Seed_box[2])\n",
    "    file.write(Sys_size+\" ! Len1 Len2 Len3\" + \"\\n\")\n",
    "    \n",
    "#    file.write(\"100000  ! OutMolMol -> output frequency\" + \"\\n\")\n",
    "#    file.write(\"100000000 ! IterMax -> Max number of iterations\" + \"\\n\")\n",
    "    \n",
    "    file.write(\"100000  ! OutMolMol -> output frequency\" + \"\\n\")\n",
    "    file.write(\"5000000 ! IterMax -> Max number of iterations\" + \"\\n\")\n",
    "\n",
    "    \n",
    "    file.write(\"10000   ! exit_zeta strategy after lenz=500 \" + \"\\n\")\n",
    "    file.write(\"R   ! R = production run; T = run test with a fixed sequence of random numbers \" + \"\\n\")\n",
    "    \n",
    "    file.close() \n",
    "    return \"printing done\""
   ]
  },
  {
   "cell_type": "code",
   "execution_count": 40,
   "metadata": {},
   "outputs": [
    {
     "data": {
      "text/plain": [
       "'printing done'"
      ]
     },
     "execution_count": 40,
     "metadata": {},
     "output_type": "execute_result"
    }
   ],
   "source": [
    "print_file_input('start-3C-SiC-APR-2020.dat',PtransE_Si,PtransE_C,PtransD,PtransZig,Simulation,Seed_box)"
   ]
  }
 ],
 "metadata": {
  "kernelspec": {
   "display_name": "Python 3",
   "language": "python",
   "name": "python3"
  },
  "language_info": {
   "codemirror_mode": {
    "name": "ipython",
    "version": 3
   },
   "file_extension": ".py",
   "mimetype": "text/x-python",
   "name": "python",
   "nbconvert_exporter": "python",
   "pygments_lexer": "ipython3",
   "version": "3.6.12"
  },
  "varInspector": {
   "cols": {
    "lenName": 16,
    "lenType": 16,
    "lenVar": 40
   },
   "kernels_config": {
    "python": {
     "delete_cmd_postfix": "",
     "delete_cmd_prefix": "del ",
     "library": "var_list.py",
     "varRefreshCmd": "print(var_dic_list())"
    },
    "r": {
     "delete_cmd_postfix": ") ",
     "delete_cmd_prefix": "rm(",
     "library": "var_list.r",
     "varRefreshCmd": "cat(var_dic_list()) "
    }
   },
   "types_to_exclude": [
    "module",
    "function",
    "builtin_function_or_method",
    "instance",
    "_Feature"
   ],
   "window_display": false
  }
 },
 "nbformat": 4,
 "nbformat_minor": 2
}
