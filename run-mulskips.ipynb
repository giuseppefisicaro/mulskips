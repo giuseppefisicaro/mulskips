{
 "cells": [
  {
   "cell_type": "markdown",
   "metadata": {},
   "source": [
    "# Generation of input file for KMC code"
   ]
  },
  {
   "cell_type": "markdown",
   "metadata": {},
   "source": [
    "## Variables to be set"
   ]
  },
  {
   "cell_type": "markdown",
   "metadata": {},
   "source": [
    "This notebook allows to run a super lattice kinetic monte carlo code with the mulskips code.\n",
    "In particular the notebook allows you to (in order):\n",
    "- generate the input file `start.dat` of mulskips code;\n",
    "- make a copy of the code in the folder `mulskips-source` and compile it;\n",
    "- make a folder where mulskips runs and all output files are written;\n",
    "- analize the output.\n",
    "\n",
    "The user is supposed to set only the variables below of this section:"
   ]
  },
  {
   "cell_type": "code",
   "execution_count": 1,
   "metadata": {
    "collapsed": true
   },
   "outputs": [],
   "source": [
    "# Temperature of the epitaxial process [K]\n",
    "Temp = 1500\n",
    "\n",
    "# Probability for the stacking fault generation\n",
    "PtransZig = 1.0\n",
    "\n",
    "# Set the super lattice KMC box\n",
    "box = [480,480,960]\n",
    "\n",
    "# Variable to set for the initial system:\n",
    "# S Sphere\n",
    "# C Parellelepipid\n",
    "# F Flat (100) surface\n",
    "# A Antiphase boundary APB\n",
    "# I inverted pyramid\n",
    "# D inverted pyramid of C\n",
    "# Z inverted pyramid of Si\n",
    "# J inverted pyramid with APB\n",
    "Simulation = \"C\"\n",
    "\n",
    "# Size of the initial system\n",
    "Seed_box = [120, 120, 120] # Len1 Len2 Len3\n",
    "\n",
    "# Directory with the source files of the SLKMC MulSKIPS code\n",
    "src = '/home/giuseppe/Dropbox/research/SLKMC-code/code_jupyter_script/mulskips-source'\n",
    "\n",
    "# Name of the run, it will be the name of the folder where the mulskips code runs and its output will be written\n",
    "run_name = 'cube'"
   ]
  },
  {
   "cell_type": "markdown",
   "metadata": {},
   "source": [
    "## Evaporation Frequencies"
   ]
  },
  {
   "cell_type": "markdown",
   "metadata": {},
   "source": [
    "Generation of the evaporation frequencies."
   ]
  },
  {
   "cell_type": "markdown",
   "metadata": {},
   "source": [
    "### Ab-initio energetics"
   ]
  },
  {
   "cell_type": "code",
   "execution_count": 2,
   "metadata": {
    "collapsed": true
   },
   "outputs": [],
   "source": [
    "import numpy as np\n",
    "import math\n",
    "kb=8.617330350e-5 # [eV/K]\n",
    "kbJ=1.3806485279e-23 # [J/K]\n",
    "NA=6.02214085774e23 # [mol^-1]\n",
    "pi=3.141592653589793"
   ]
  },
  {
   "cell_type": "code",
   "execution_count": 3,
   "metadata": {
    "collapsed": true
   },
   "outputs": [],
   "source": [
    "kT=kb*Temp"
   ]
  },
  {
   "cell_type": "code",
   "execution_count": 4,
   "metadata": {},
   "outputs": [
    {
     "name": "stdout",
     "output_type": "stream",
     "text": [
      "0.12925995525\n"
     ]
    }
   ],
   "source": [
    "print(kT)"
   ]
  },
  {
   "cell_type": "code",
   "execution_count": 5,
   "metadata": {
    "collapsed": true
   },
   "outputs": [],
   "source": [
    "ESi=np.zeros((4, 4)) # Si energetics of evaporation in eV\n",
    "EC=np.zeros((4, 4)) # C energetics of evaporation in eV"
   ]
  },
  {
   "cell_type": "code",
   "execution_count": 6,
   "metadata": {
    "collapsed": true
   },
   "outputs": [],
   "source": [
    "f=4 # factor for the energetics interpolation"
   ]
  },
  {
   "cell_type": "code",
   "execution_count": 7,
   "metadata": {
    "collapsed": true
   },
   "outputs": [],
   "source": [
    "# Coordination 1 of Si from 111 C-terminated 4x1x2 bigdft surface\n",
    "ESi[0,1]= -6.83 # -4.39 BigDFT # -6.83 # QE \n",
    "# Coordination 2 of Si from 100 Si-terminated 3x1x3 dimer surface\n",
    "ESi[0,2]=-7.04\n",
    "# Coordination 3 of Si from 111 Si-terminated 4x1x2 surface\n",
    "ESi[0,3]=-7.77\n",
    "# Coordination 1 of Si adatom optimized on 111 Si-terminated 4x1x2 surface\n",
    "ESi[1,0]=-6.72\n",
    "ESi[1,1]=(f*ESi[1,0]+ESi[0,2])/(f+1) # -6.8 # ESi[1,0] < ESi[1,1] < ESi[0,2]\n",
    "ESi[1,2]=(f*ESi[0,2]+ESi[0,3])/(f+1) # -6.8 # ESi[0,2] < ESi[1,2] < ESi[0,3]\n",
    "ESi[2,1]=(f*ESi[1,1]+ESi[0,3])/(f+1) # -6.8 # ESi[1,1] < ESi[2,1] < ESi[0,3]\n",
    "ESi[2,0]=(f*ESi[1,0]+ESi[2,1])/(f+1) # -6.8 # ESi[1,0] < ESi[2,0] < ESi[2,1]\n",
    "ESi[3,0]=(f*ESi[2,0]+ESi[2,1])/(f+1) # -6.8 # ESi[2,0] < ESi[3,0] < ESi[2,1]"
   ]
  },
  {
   "cell_type": "code",
   "execution_count": 8,
   "metadata": {},
   "outputs": [
    {
     "name": "stdout",
     "output_type": "stream",
     "text": [
      "[[ 0.       -6.83     -7.04     -7.77    ]\n",
      " [-6.72     -6.784    -7.186     0.      ]\n",
      " [-6.77224  -6.9812    0.        0.      ]\n",
      " [-6.814032  0.        0.        0.      ]]\n"
     ]
    }
   ],
   "source": [
    "print(ESi)"
   ]
  },
  {
   "cell_type": "code",
   "execution_count": 9,
   "metadata": {
    "collapsed": true
   },
   "outputs": [],
   "source": [
    "# Coordination 1 of C from 111 Si-terminated 4x1x2 surface\n",
    "EC[1,0]=-9.10\n",
    "# Coordination 2 of C from 100 C-terminated 3x1x3 dimer surface\n",
    "EC[2,0]=-11.43\n",
    "# Coordination 3 of C from 111 C-terminated 4x1x2 bigdft surface\n",
    "EC[3,0]=-11.80\n",
    "# Coordination 1 of C adatom optimized on 111 C-terminated 4x1x2 bigdft surface\n",
    "EC[0,1]=-7.76\n",
    "EC[1,1]= (f*EC[1,0]+EC[2,0])/(f+1) #  -9.8 # EC[1,0] < EC[1,1] < EC[2,0]\n",
    "EC[1,2]= (f*EC[1,1]+EC[3,0])/(f+1) # -10.0 # EC[1,1] < EC[1,2] < EC[3,0]\n",
    "EC[0,2]= (f*EC[0,1]+EC[1,2])/(f+1) # -8.1 # EC[0,1] < EC[0,2] < EC[1,2] \n",
    "EC[2,1]= (f*EC[2,0]+EC[3,0])/(f+1) # -11.6 # EC[2,0] < EC[2,1] < EC[3,0]\n",
    "EC[0,3]= (f*EC[0,2]+EC[1,2])/(f+1) # -9.1 # EC[0,2] < EC[0,3] < EC[1,2]"
   ]
  },
  {
   "cell_type": "code",
   "execution_count": 10,
   "metadata": {},
   "outputs": [
    {
     "name": "stdout",
     "output_type": "stream",
     "text": [
      "[[  0.        -7.76      -8.21056   -8.571008]\n",
      " [ -9.1       -9.566    -10.0128     0.      ]\n",
      " [-11.43     -11.504      0.         0.      ]\n",
      " [-11.8        0.         0.         0.      ]]\n"
     ]
    }
   ],
   "source": [
    "print(EC)"
   ]
  },
  {
   "cell_type": "markdown",
   "metadata": {},
   "source": [
    "### Langmuir prefactor"
   ]
  },
  {
   "cell_type": "markdown",
   "metadata": {},
   "source": [
    "Following we derive prefactors for the evaporation rates starting from the experimental partial pressures of Lilov 1993's work."
   ]
  },
  {
   "cell_type": "code",
   "execution_count": 11,
   "metadata": {
    "collapsed": true
   },
   "outputs": [],
   "source": [
    "A_1={'Si':-27499.8,'Si2C':-34177.2,'SiC2':-34075.8}      # Temperature range 1500-2000 [K]\n",
    "A_2={'Si':-27261.32,'Si2C':-33500.33,'SiC2':-33526.61}   # Temperature range 2000-2546 [K]\n",
    "B_1={'Si':12.8114,'Si2C':15.1877,'SiC2':15.4274}         # Temperature range 1500-2000 [K]\n",
    "B_2={'Si':12.6921,'Si2C':14.8493,'SiC2':15.1528}         # Temperature range 2000-2546 [K]"
   ]
  },
  {
   "cell_type": "code",
   "execution_count": 12,
   "metadata": {
    "collapsed": true
   },
   "outputs": [],
   "source": [
    "Pexp={} # [N/m^2]\n",
    "if 1500 <= Temp <=2000:\n",
    "    ele='Si'\n",
    "    Pexp[ele]=math.exp(A_1[ele]/Temp+B_1[ele])\n",
    "    ele='Si2C'\n",
    "    Pexp[ele]=math.exp(A_1[ele]/Temp+B_1[ele])\n",
    "    ele='SiC2'\n",
    "    Pexp[ele]=math.exp(A_1[ele]/Temp+B_1[ele])\n",
    "elif 2000 < Temp <=2546:\n",
    "    ele='Si'\n",
    "    Pexp[ele]=math.exp(A_2[ele]/Temp+B_2[ele])\n",
    "    ele='Si2C'\n",
    "    Pexp[ele]=math.exp(A_2[ele]/Temp+B_2[ele])\n",
    "    ele='SiC2'\n",
    "    Pexp[ele]=math.exp(A_2[ele]/Temp+B_2[ele])\n",
    "else:\n",
    "    print(\"error, temperature range not yet implemented.\")"
   ]
  },
  {
   "cell_type": "code",
   "execution_count": 13,
   "metadata": {},
   "outputs": [
    {
     "name": "stdout",
     "output_type": "stream",
     "text": [
      "{'Si': 0.0039986439013764, 'Si2C': 0.0005019048490315947, 'SiC2': 0.0006824645320143978}\n"
     ]
    }
   ],
   "source": [
    "print(Pexp)"
   ]
  },
  {
   "cell_type": "code",
   "execution_count": 14,
   "metadata": {
    "collapsed": true
   },
   "outputs": [],
   "source": [
    "mC=12\n",
    "mSi=28"
   ]
  },
  {
   "cell_type": "code",
   "execution_count": 15,
   "metadata": {
    "collapsed": true
   },
   "outputs": [],
   "source": [
    "PSi=Pexp['Si']+(2*mSi/(2*mSi+mC))*Pexp['Si2C']+(mSi/(mSi+2*mC))*Pexp['SiC2'] # [N/m^2]"
   ]
  },
  {
   "cell_type": "code",
   "execution_count": 16,
   "metadata": {
    "collapsed": true
   },
   "outputs": [],
   "source": [
    "PC=(mC/(2*mSi+mC))*Pexp['Si2C']+(2*mC/(mSi+2*mC))*Pexp['SiC2'] # [N/m^2]"
   ]
  },
  {
   "cell_type": "code",
   "execution_count": 17,
   "metadata": {},
   "outputs": [
    {
     "name": "stdout",
     "output_type": "stream",
     "text": [
      "0.004779458208315149\n"
     ]
    }
   ],
   "source": [
    "print(PSi)"
   ]
  },
  {
   "cell_type": "code",
   "execution_count": 18,
   "metadata": {},
   "outputs": [
    {
     "name": "stdout",
     "output_type": "stream",
     "text": [
      "0.00040355507410724334\n"
     ]
    }
   ],
   "source": [
    "print(PC)"
   ]
  },
  {
   "cell_type": "markdown",
   "metadata": {},
   "source": [
    "### Langmuir setup for evaporation probabilities"
   ]
  },
  {
   "cell_type": "code",
   "execution_count": 19,
   "metadata": {
    "collapsed": true
   },
   "outputs": [],
   "source": [
    "Bolt_Si=np.zeros((4, 4)) # Probabilities of Si\n",
    "Bolt_C=np.zeros((4, 4)) # Probabilities of C\n",
    "#shift_Si = 6.5\n",
    "#shift_C = 11.0"
   ]
  },
  {
   "cell_type": "code",
   "execution_count": 20,
   "metadata": {
    "collapsed": true
   },
   "outputs": [],
   "source": [
    "Bolt_Si=np.exp(ESi/kT)\n",
    "Bolt_C =np.exp(EC/kT)"
   ]
  },
  {
   "cell_type": "code",
   "execution_count": 21,
   "metadata": {
    "collapsed": true
   },
   "outputs": [],
   "source": [
    "sum_Si=Bolt_Si[0,2]"
   ]
  },
  {
   "cell_type": "code",
   "execution_count": 22,
   "metadata": {
    "collapsed": true
   },
   "outputs": [],
   "source": [
    "sum_C=Bolt_C[2,0]"
   ]
  },
  {
   "cell_type": "code",
   "execution_count": 23,
   "metadata": {},
   "outputs": [
    {
     "name": "stdout",
     "output_type": "stream",
     "text": [
      "[[1.00000000e+00 1.12772249e-23 2.22143217e-24 7.83321736e-27]\n",
      " [2.64110763e-23 1.60973909e-23 7.17950465e-25 1.00000000e+00]\n",
      " [1.76306111e-23 3.50100256e-24 1.00000000e+00 1.00000000e+00]\n",
      " [1.27600501e-23 1.00000000e+00 1.00000000e+00 1.00000000e+00]]\n"
     ]
    }
   ],
   "source": [
    "print(Bolt_Si)"
   ]
  },
  {
   "cell_type": "code",
   "execution_count": 24,
   "metadata": {},
   "outputs": [
    {
     "name": "stdout",
     "output_type": "stream",
     "text": [
      "[[1.00000000e+00 8.46328002e-27 2.59252663e-28 1.59467005e-29]\n",
      " [2.66278035e-31 7.23841909e-33 2.28276544e-34 1.00000000e+00]\n",
      " [3.95254888e-39 2.22970860e-39 1.00000000e+00 1.00000000e+00]\n",
      " [2.25803955e-40 1.00000000e+00 1.00000000e+00 1.00000000e+00]]\n"
     ]
    }
   ],
   "source": [
    "print(Bolt_C)"
   ]
  },
  {
   "cell_type": "code",
   "execution_count": 25,
   "metadata": {
    "collapsed": true
   },
   "outputs": [],
   "source": [
    "PvSi=PSi*Bolt_Si/sum_Si # [N/m^2]"
   ]
  },
  {
   "cell_type": "code",
   "execution_count": 26,
   "metadata": {
    "collapsed": true
   },
   "outputs": [],
   "source": [
    "PvC=PC*Bolt_C/sum_C # [N/m^2]"
   ]
  },
  {
   "cell_type": "code",
   "execution_count": 27,
   "metadata": {},
   "outputs": [
    {
     "name": "stdout",
     "output_type": "stream",
     "text": [
      "[[2.15152111e+21 2.42631874e-02 4.77945821e-03 1.68533325e-05]\n",
      " [5.68239882e-02 3.46338764e-02 1.54468558e-03 2.15152111e+21]\n",
      " [3.79326319e-02 7.53248092e-03 2.15152111e+21 2.15152111e+21]\n",
      " [2.74535171e-02 2.15152111e+21 2.15152111e+21 2.15152111e+21]]\n"
     ]
    }
   ],
   "source": [
    "print(PvSi)"
   ]
  },
  {
   "cell_type": "code",
   "execution_count": 28,
   "metadata": {},
   "outputs": [
    {
     "name": "stdout",
     "output_type": "stream",
     "text": [
      "[[1.02099958e+35 8.64100533e+08 2.64696859e+07 1.62815745e+06]\n",
      " [2.71869761e+04 7.39042284e+02 2.33070255e+01 1.02099958e+35]\n",
      " [4.03555074e-04 2.27653154e-04 1.02099958e+35 1.02099958e+35]\n",
      " [2.30545742e-05 1.02099958e+35 1.02099958e+35 1.02099958e+35]]\n"
     ]
    }
   ],
   "source": [
    "print(PvC)"
   ]
  },
  {
   "cell_type": "code",
   "execution_count": 29,
   "metadata": {
    "collapsed": true
   },
   "outputs": [],
   "source": [
    "EvSi=PvSi*math.sqrt(mSi/(NA*2.0*pi*kbJ*Temp)) # [kg/(m^2 s)]"
   ]
  },
  {
   "cell_type": "code",
   "execution_count": 30,
   "metadata": {
    "collapsed": true
   },
   "outputs": [],
   "source": [
    "EvC=PvC*math.sqrt(mC/(NA*2.0*pi*kbJ*Temp))"
   ]
  },
  {
   "cell_type": "code",
   "execution_count": 31,
   "metadata": {},
   "outputs": [
    {
     "name": "stdout",
     "output_type": "stream",
     "text": [
      "[[4.06698005e+19 4.58642486e-04 9.03452031e-05 3.18575387e-07]\n",
      " [1.07413320e-03 6.54677677e-04 2.91989022e-05 4.06698005e+19]\n",
      " [7.17033435e-04 1.42385076e-04 4.06698005e+19 4.06698005e+19]\n",
      " [5.18948690e-04 4.06698005e+19 4.06698005e+19 4.06698005e+19]]\n"
     ]
    }
   ],
   "source": [
    "print(EvSi)"
   ]
  },
  {
   "cell_type": "code",
   "execution_count": 32,
   "metadata": {},
   "outputs": [
    {
     "name": "stdout",
     "output_type": "stream",
     "text": [
      "[[1.26346612e+33 1.06930675e+07 3.27556956e+05 2.01481158e+04]\n",
      " [3.36433275e+02 9.14549727e+00 2.88419679e-01 1.26346612e+33]\n",
      " [4.99391159e-06 2.81716127e-06 1.26346612e+33 1.26346612e+33]\n",
      " [2.85295646e-07 1.26346612e+33 1.26346612e+33 1.26346612e+33]]\n"
     ]
    }
   ],
   "source": [
    "print(EvC)"
   ]
  },
  {
   "cell_type": "code",
   "execution_count": 33,
   "metadata": {
    "collapsed": true
   },
   "outputs": [],
   "source": [
    "PtransE_Si=EvSi\n",
    "PtransE_C=EvC"
   ]
  },
  {
   "cell_type": "markdown",
   "metadata": {},
   "source": [
    "### Growth Rate Check along the [001] direction"
   ]
  },
  {
   "cell_type": "code",
   "execution_count": 34,
   "metadata": {
    "collapsed": true
   },
   "outputs": [],
   "source": [
    "rho_SiC=3.21e3 # kg/m3"
   ]
  },
  {
   "cell_type": "code",
   "execution_count": 35,
   "metadata": {},
   "outputs": [
    {
     "name": "stdout",
     "output_type": "stream",
     "text": [
      "2.8144923090492894e-08\n"
     ]
    }
   ],
   "source": [
    "rate=EvSi[0,2]/rho_SiC # [m/s]\n",
    "print(rate)"
   ]
  },
  {
   "cell_type": "code",
   "execution_count": 36,
   "metadata": {
    "collapsed": true
   },
   "outputs": [],
   "source": [
    "rate_mh = rate * 1e6 * 3600 # [micron/h]"
   ]
  },
  {
   "cell_type": "code",
   "execution_count": 37,
   "metadata": {},
   "outputs": [
    {
     "name": "stdout",
     "output_type": "stream",
     "text": [
      "101.32172312577441\n"
     ]
    }
   ],
   "source": [
    "print(rate_mh)"
   ]
  },
  {
   "cell_type": "code",
   "execution_count": 38,
   "metadata": {
    "collapsed": true
   },
   "outputs": [],
   "source": [
    "time=13408856.4091797"
   ]
  },
  {
   "cell_type": "code",
   "execution_count": 39,
   "metadata": {
    "collapsed": true
   },
   "outputs": [],
   "source": [
    "rate_check=1.0/(time*rho_SiC) # [m/s]"
   ]
  },
  {
   "cell_type": "code",
   "execution_count": 40,
   "metadata": {
    "collapsed": true
   },
   "outputs": [],
   "source": [
    "rate_micronh = rate_check*1e6*3600 # [micron/h]"
   ]
  },
  {
   "cell_type": "code",
   "execution_count": 41,
   "metadata": {},
   "outputs": [
    {
     "name": "stdout",
     "output_type": "stream",
     "text": [
      "0.08363840232751156\n"
     ]
    }
   ],
   "source": [
    "print(rate_micronh)"
   ]
  },
  {
   "cell_type": "code",
   "execution_count": 42,
   "metadata": {},
   "outputs": [
    {
     "name": "stdout",
     "output_type": "stream",
     "text": [
      "2.3232889535419878e-11\n"
     ]
    }
   ],
   "source": [
    "print(rate_check)"
   ]
  },
  {
   "cell_type": "markdown",
   "metadata": {},
   "source": [
    "## Deposition Frequencies"
   ]
  },
  {
   "cell_type": "markdown",
   "metadata": {},
   "source": [
    "We calibrated the deposition frequencies from the experimental inverted pyramid growth along the [001] direction with marker layers."
   ]
  },
  {
   "cell_type": "code",
   "execution_count": 43,
   "metadata": {
    "collapsed": true
   },
   "outputs": [],
   "source": [
    "PtransD=np.zeros(6)"
   ]
  },
  {
   "cell_type": "code",
   "execution_count": 44,
   "metadata": {
    "collapsed": true
   },
   "outputs": [],
   "source": [
    "fact_D = [1.10546, 200.0, 0.276365, 2.5, 44.2184, 400.0]"
   ]
  },
  {
   "cell_type": "code",
   "execution_count": 45,
   "metadata": {
    "collapsed": true
   },
   "outputs": [],
   "source": [
    "PtransD[0]=fact_D[0]*PtransE_Si[0,2] # Si coord 1, old 1\n",
    "PtransD[1]=fact_D[1]*PtransE_C[2,0] # C  coord 1, old 1\n",
    "PtransD[2]=fact_D[2]*PtransE_Si[0,2] # Si coord 2, old 2\n",
    "PtransD[3]=fact_D[3]*PtransE_C[2,0]  # C  coord 2, old 2\n",
    "PtransD[4]=fact_D[4]*PtransE_Si[0,2] # Si coord 3, old 20\n",
    "PtransD[5]=fact_D[5]*PtransE_C[2,0] # C  coord 3, old 20"
   ]
  },
  {
   "cell_type": "code",
   "execution_count": 46,
   "metadata": {},
   "outputs": [
    {
     "name": "stdout",
     "output_type": "stream",
     "text": [
      "[9.98730082e-05 9.98782319e-04 2.49682521e-05 1.24847790e-05\n",
      " 3.99492033e-03 1.99756464e-03]\n"
     ]
    }
   ],
   "source": [
    "print(PtransD)"
   ]
  },
  {
   "cell_type": "markdown",
   "metadata": {},
   "source": [
    "## Generation of the kinetic Monte Carlo input file"
   ]
  },
  {
   "cell_type": "code",
   "execution_count": 47,
   "metadata": {
    "collapsed": true
   },
   "outputs": [],
   "source": [
    "filename=\"start.dat\""
   ]
  },
  {
   "cell_type": "code",
   "execution_count": 48,
   "metadata": {
    "collapsed": true
   },
   "outputs": [],
   "source": [
    "def print_file_input(filename,PtransE_Si,PtransE_C,PtransD,PtransZig,Simulation,Sedd_box):\n",
    "    file = open(filename,\"w\") \n",
    "\n",
    "    file.write(str(PtransE_Si[0,1])+\" ! PtransE_Si[0,1]\" + \"\\n\") \n",
    "    file.write(str(PtransE_Si[1,0])+\" ! PtransE_Si[1,0]\" + \"\\n\")\n",
    "    file.write(str(PtransE_Si[1,1])+\" ! PtransE_Si[1,1]\" + \"\\n\") \n",
    "    file.write(str(PtransE_Si[0,2])+\" ! PtransE_Si[0,2]\" + \"\\n\") \n",
    "    file.write(str(PtransE_Si[2,0])+\" ! PtransE_Si[2,0]\" + \"\\n\") \n",
    "    file.write(str(PtransE_Si[2,1])+\" ! PtransE_Si[2,1]\" + \"\\n\") \n",
    "    file.write(str(PtransE_Si[1,2])+\" ! PtransE_Si[1,2]\" + \"\\n\") \n",
    "    file.write(str(PtransE_Si[0,3])+\" ! PtransE_Si[0,3]\" + \"\\n\") \n",
    "    file.write(str(PtransE_Si[3,0])+\" ! PtransE_Si[3,0]\" + \"\\n\") \n",
    "\n",
    "    file.write(str(PtransE_C[0,1])+\" ! PtransE_C[0,1]\" + \"\\n\") \n",
    "    file.write(str(PtransE_C[1,0])+\" ! PtransE_C[1,0]\" + \"\\n\")\n",
    "    file.write(str(PtransE_C[1,1])+\" ! PtransE_C[1,1]\" + \"\\n\") \n",
    "    file.write(str(PtransE_C[0,2])+\" ! PtransE_C[0,2]\" + \"\\n\") \n",
    "    file.write(str(PtransE_C[2,0])+\" ! PtransE_C[2,0]\" + \"\\n\") \n",
    "    file.write(str(PtransE_C[2,1])+\" ! PtransE_C[2,1]\" + \"\\n\") \n",
    "    file.write(str(PtransE_C[1,2])+\" ! PtransE_C[1,2]\" + \"\\n\") \n",
    "    file.write(str(PtransE_C[0,3])+\" ! PtransE_C[0,3]\" + \"\\n\") \n",
    "    file.write(str(PtransE_C[3,0])+\" ! PtransE_C[3,0]\" + \"\\n\") \n",
    "\n",
    "    file.write(str(PtransD[0])+\" ! PtransD[1]\" + \"\\n\") \n",
    "    file.write(str(PtransD[1])+\" ! PtransD[2]\" + \"\\n\") \n",
    "    file.write(str(PtransD[2])+\" ! PtransD[3]\" + \"\\n\") \n",
    "    file.write(str(PtransD[3])+\" ! PtransD[4]\" + \"\\n\") \n",
    "    file.write(str(PtransD[4])+\" ! PtransD[5]\" + \"\\n\") \n",
    "    file.write(str(PtransD[5])+\" ! PtransD[6]\" + \"\\n\") \n",
    "\n",
    "    file.write(str(PtransZig)+\" ! PtransZig\" + \"\\n\")\n",
    "\n",
    "    file.write(Simulation+\" ! Initstat: S Sphere, C Parellelepipid, F Flat (100) surface, A APB, I inverted pyramid, D inverted pyramid of C, Z inverted pyramid of Si, J inverted pyramid with APB \" +  \"\\n\")\n",
    "\n",
    "    Sys_size=str(Seed_box[0])+' '+str(Seed_box[1])+' '+str(Seed_box[2])\n",
    "    file.write(Sys_size+\" ! Len1 Len2 Len3\" + \"\\n\")\n",
    "    \n",
    "#    file.write(\"100000  ! OutMolMol -> output frequency\" + \"\\n\")\n",
    "#    file.write(\"100000000 ! IterMax -> Max number of iterations\" + \"\\n\")\n",
    "    \n",
    "    file.write(\"100000  ! OutMolMol -> output frequency\" + \"\\n\")\n",
    "    file.write(\"5000000 ! IterMax -> Max number of iterations\" + \"\\n\")\n",
    "\n",
    "    \n",
    "    file.write(\"10000   ! exit_zeta strategy after lenz=500 \" + \"\\n\")\n",
    "    file.write(\"R   ! R = production run; T = run test with a fixed sequence of random numbers \" + \"\\n\")\n",
    "    \n",
    "    file.close() \n",
    "    return \"printing done\""
   ]
  },
  {
   "cell_type": "markdown",
   "metadata": {},
   "source": [
    "# MulSKIPS compilation"
   ]
  },
  {
   "cell_type": "code",
   "execution_count": 49,
   "metadata": {},
   "outputs": [
    {
     "name": "stdout",
     "output_type": "stream",
     "text": [
      "The current working directory is /home/giuseppe/Dropbox/research/SLKMC-code/code_jupyter_script\n"
     ]
    }
   ],
   "source": [
    "# import the os module\n",
    "import os\n",
    "\n",
    "# detect the current working directory and print it\n",
    "path = os.getcwd()\n",
    "print (\"The current working directory is %s\" % path)"
   ]
  },
  {
   "cell_type": "code",
   "execution_count": 50,
   "metadata": {
    "collapsed": true
   },
   "outputs": [],
   "source": [
    "import shutil\n",
    "\n",
    "# directory where we want to copy the SLKMC Multskips code\n",
    "dest=path+'/mulskips-source-build'\n",
    "\n",
    "def copyDirectory(src, dest):\n",
    "    try:\n",
    "        shutil.copytree(src, dest)\n",
    "    # Directories are the same\n",
    "    except shutil.Error as e:\n",
    "        print('Directory not copied. Error: %s' % e)\n",
    "    # Any error saying that the directory doesn't exist\n",
    "    except OSError as e:\n",
    "        print('Directory not copied. Error: %s' % e)"
   ]
  },
  {
   "cell_type": "code",
   "execution_count": 51,
   "metadata": {
    "collapsed": true
   },
   "outputs": [],
   "source": [
    "# generation of the directory mulskips-source in the current directory with the MulSKIPS source files\n",
    "destination=copyDirectory(src,dest)"
   ]
  },
  {
   "cell_type": "code",
   "execution_count": 52,
   "metadata": {
    "collapsed": true
   },
   "outputs": [],
   "source": [
    "# modify the makefile with the correct source directory\n",
    "filein=open(dest+\"/makefile_templ\",\"r\")\n",
    "fileout=open(dest+\"/makefile\",\"w\")\n",
    "\n",
    "ind=0\n",
    "for line in filein:\n",
    "    if ind==4 :\n",
    "        fileout.write('DESTDIR = '+dest+\"\\n\")\n",
    "    else :\n",
    "        fileout.write(line)\n",
    "    ind+=1\n",
    "fileout.close()\n",
    "filein.close()"
   ]
  },
  {
   "cell_type": "code",
   "execution_count": 53,
   "metadata": {},
   "outputs": [
    {
     "name": "stdout",
     "output_type": "stream",
     "text": [
      "480 480 960\n"
     ]
    }
   ],
   "source": [
    "# modify the file defsystem.f with the correct box size\n",
    "\n",
    "moddir=dest+'/modules'\n",
    "filein=open(moddir+\"/defsystem_templ.f\",\"r\")\n",
    "fileout=open(moddir+\"/defsystem.f\",\"w\")\n",
    "lenx=box[0]\n",
    "leny=box[1]\n",
    "lenz=box[2]\n",
    "print(lenx,leny,lenz)\n",
    "    \n",
    "ind=0\n",
    "for line in filein:\n",
    "    if ind==6 :\n",
    "        fileout.write('       INTEGER, PARAMETER :: LenX='+str(lenx)+', LenY='+str(leny)+', LenZ='+str(lenz)+\"\\n\")\n",
    "    else :\n",
    "        fileout.write(line)\n",
    "    ind+=1\n",
    "fileout.close()\n",
    "filein.close()"
   ]
  },
  {
   "cell_type": "code",
   "execution_count": 54,
   "metadata": {
    "scrolled": false
   },
   "outputs": [
    {
     "name": "stdout",
     "output_type": "stream",
     "text": [
      "b'rm /home/giuseppe/Dropbox/research/SLKMC-code/code_jupyter_script/mulskips-source-build/modules/defdertype.o /home/giuseppe/Dropbox/research/SLKMC-code/code_jupyter_script/mulskips-source-build/modules/defsystem.o /home/giuseppe/Dropbox/research/SLKMC-code/code_jupyter_script/mulskips-source-build/modules/definitions.o /home/giuseppe/Dropbox/research/SLKMC-code/code_jupyter_script/mulskips-source-build/initial/SetAPB.o /home/giuseppe/Dropbox/research/SLKMC-code/code_jupyter_script/mulskips-source-build/initial/SetInvPC.o /home/giuseppe/Dropbox/research/SLKMC-code/code_jupyter_script/mulskips-source-build/initial/SetInvPwAPB.o /home/giuseppe/Dropbox/research/SLKMC-code/code_jupyter_script/mulskips-source-build/initial/SetNCSp.o /home/giuseppe/Dropbox/research/SLKMC-code/code_jupyter_script/mulskips-source-build/initial/SetAPBSym.o /home/giuseppe/Dropbox/research/SLKMC-code/code_jupyter_script/mulskips-source-build/initial/SetInvP.o /home/giuseppe/Dropbox/research/SLKMC-code/code_jupyter_script/mulskips-source-build/initial/SetInvPwOnlyCorSi.o /home/giuseppe/Dropbox/research/SLKMC-code/code_jupyter_script/mulskips-source-build/initial/SetSiC3C.o /home/giuseppe/Dropbox/research/SLKMC-code/code_jupyter_script/mulskips-source-build/initial/SetAPBSymZimb1.o /home/giuseppe/Dropbox/research/SLKMC-code/code_jupyter_script/mulskips-source-build/initial/SetInvPOff.o /home/giuseppe/Dropbox/research/SLKMC-code/code_jupyter_script/mulskips-source-build/initial/SetInvPwOnlySiorC.o /home/giuseppe/Dropbox/research/SLKMC-code/code_jupyter_script/mulskips-source-build/initial/SetTrench.o /home/giuseppe/Dropbox/research/SLKMC-code/code_jupyter_script/mulskips-source-build/initial/SetAPBSymZimb.o /home/giuseppe/Dropbox/research/SLKMC-code/code_jupyter_script/mulskips-source-build/initial/SetInvPSi.o /home/giuseppe/Dropbox/research/SLKMC-code/code_jupyter_script/mulskips-source-build/initial/SetNC.o /home/giuseppe/Dropbox/research/SLKMC-code/code_jupyter_script/mulskips-source-build/inpout/FileClose.o /home/giuseppe/Dropbox/research/SLKMC-code/code_jupyter_script/mulskips-source-build/inpout/GetOutputFileName.o /home/giuseppe/Dropbox/research/SLKMC-code/code_jupyter_script/mulskips-source-build/inpout/WriteMolMolXYZFile.o /home/giuseppe/Dropbox/research/SLKMC-code/code_jupyter_script/mulskips-source-build/inpout/FileOpen.o /home/giuseppe/Dropbox/research/SLKMC-code/code_jupyter_script/mulskips-source-build/inpout/WriteMolMolSource.o /home/giuseppe/Dropbox/research/SLKMC-code/code_jupyter_script/mulskips-source-build/lattice/FIND_NN.o /home/giuseppe/Dropbox/research/SLKMC-code/code_jupyter_script/mulskips-source-build/lattice/FIND_SN.o /home/giuseppe/Dropbox/research/SLKMC-code/code_jupyter_script/mulskips-source-build/mcevent/Add.o /home/giuseppe/Dropbox/research/SLKMC-code/code_jupyter_script/mulskips-source-build/mcevent/Evaporation.o /home/giuseppe/Dropbox/research/SLKMC-code/code_jupyter_script/mulskips-source-build/mcevent/PickTreeEvent.o /home/giuseppe/Dropbox/research/SLKMC-code/code_jupyter_script/mulskips-source-build/mcevent/UpdateTree.o /home/giuseppe/Dropbox/research/SLKMC-code/code_jupyter_script/mulskips-source-build/mcevent/AllocateArrays.o /home/giuseppe/Dropbox/research/SLKMC-code/code_jupyter_script/mulskips-source-build/mcevent/Get_Prob.o /home/giuseppe/Dropbox/research/SLKMC-code/code_jupyter_script/mulskips-source-build/mcevent/random.o /home/giuseppe/Dropbox/research/SLKMC-code/code_jupyter_script/mulskips-source-build/mcevent/deposition.o /home/giuseppe/Dropbox/research/SLKMC-code/code_jupyter_script/mulskips-source-build/mcevent/Get_Prob_Ini.o /home/giuseppe/Dropbox/research/SLKMC-code/code_jupyter_script/mulskips-source-build/mcevent/SetProbability.o /home/giuseppe/Dropbox/research/SLKMC-code/code_jupyter_script/mulskips-source-build/mcevent/Erase.o /home/giuseppe/Dropbox/research/SLKMC-code/code_jupyter_script/mulskips-source-build/mcevent/IF_Arm_Choice.o /home/giuseppe/Dropbox/research/SLKMC-code/code_jupyter_script/mulskips-source-build/mcevent/UpdateCoor.o main.o mulskips.e *.mod\\n'\n",
      "b\"makefile:29: recipe for target 'clean' failed\\n\"\n",
      "b'f95 -O4 -mcmodel=medium  \\t  -c -o /home/giuseppe/Dropbox/research/SLKMC-code/code_jupyter_script/mulskips-source-build/modules/defdertype.o /home/giuseppe/Dropbox/research/SLKMC-code/code_jupyter_script/mulskips-source-build/modules/defdertype.f\\n'\n",
      "b'f95 -O4 -mcmodel=medium  \\t  -c -o /home/giuseppe/Dropbox/research/SLKMC-code/code_jupyter_script/mulskips-source-build/modules/defsystem.o /home/giuseppe/Dropbox/research/SLKMC-code/code_jupyter_script/mulskips-source-build/modules/defsystem.f\\n'\n",
      "b'f95 -O4 -mcmodel=medium  \\t  -c -o /home/giuseppe/Dropbox/research/SLKMC-code/code_jupyter_script/mulskips-source-build/modules/definitions.o /home/giuseppe/Dropbox/research/SLKMC-code/code_jupyter_script/mulskips-source-build/modules/definitions.f\\n'\n",
      "b'f95 -O4 -mcmodel=medium  \\t  -c -o /home/giuseppe/Dropbox/research/SLKMC-code/code_jupyter_script/mulskips-source-build/initial/SetAPB.o /home/giuseppe/Dropbox/research/SLKMC-code/code_jupyter_script/mulskips-source-build/initial/SetAPB.f\\n'\n",
      "b'f95 -O4 -mcmodel=medium  \\t  -c -o /home/giuseppe/Dropbox/research/SLKMC-code/code_jupyter_script/mulskips-source-build/initial/SetInvPC.o /home/giuseppe/Dropbox/research/SLKMC-code/code_jupyter_script/mulskips-source-build/initial/SetInvPC.f\\n'\n",
      "b'f95 -O4 -mcmodel=medium  \\t  -c -o /home/giuseppe/Dropbox/research/SLKMC-code/code_jupyter_script/mulskips-source-build/initial/SetInvPwAPB.o /home/giuseppe/Dropbox/research/SLKMC-code/code_jupyter_script/mulskips-source-build/initial/SetInvPwAPB.f\\n'\n",
      "b'f95 -O4 -mcmodel=medium  \\t  -c -o /home/giuseppe/Dropbox/research/SLKMC-code/code_jupyter_script/mulskips-source-build/initial/SetNCSp.o /home/giuseppe/Dropbox/research/SLKMC-code/code_jupyter_script/mulskips-source-build/initial/SetNCSp.f\\n'\n",
      "b'f95 -O4 -mcmodel=medium  \\t  -c -o /home/giuseppe/Dropbox/research/SLKMC-code/code_jupyter_script/mulskips-source-build/initial/SetAPBSym.o /home/giuseppe/Dropbox/research/SLKMC-code/code_jupyter_script/mulskips-source-build/initial/SetAPBSym.f\\n'\n",
      "b'f95 -O4 -mcmodel=medium  \\t  -c -o /home/giuseppe/Dropbox/research/SLKMC-code/code_jupyter_script/mulskips-source-build/initial/SetInvP.o /home/giuseppe/Dropbox/research/SLKMC-code/code_jupyter_script/mulskips-source-build/initial/SetInvP.f\\n'\n",
      "b'f95 -O4 -mcmodel=medium  \\t  -c -o /home/giuseppe/Dropbox/research/SLKMC-code/code_jupyter_script/mulskips-source-build/initial/SetInvPwOnlyCorSi.o /home/giuseppe/Dropbox/research/SLKMC-code/code_jupyter_script/mulskips-source-build/initial/SetInvPwOnlyCorSi.f\\n'\n",
      "b'f95 -O4 -mcmodel=medium  \\t  -c -o /home/giuseppe/Dropbox/research/SLKMC-code/code_jupyter_script/mulskips-source-build/initial/SetSiC3C.o /home/giuseppe/Dropbox/research/SLKMC-code/code_jupyter_script/mulskips-source-build/initial/SetSiC3C.f\\n'\n",
      "b'f95 -O4 -mcmodel=medium  \\t  -c -o /home/giuseppe/Dropbox/research/SLKMC-code/code_jupyter_script/mulskips-source-build/initial/SetAPBSymZimb1.o /home/giuseppe/Dropbox/research/SLKMC-code/code_jupyter_script/mulskips-source-build/initial/SetAPBSymZimb1.f\\n'\n",
      "b'f95 -O4 -mcmodel=medium  \\t  -c -o /home/giuseppe/Dropbox/research/SLKMC-code/code_jupyter_script/mulskips-source-build/initial/SetInvPOff.o /home/giuseppe/Dropbox/research/SLKMC-code/code_jupyter_script/mulskips-source-build/initial/SetInvPOff.f\\n'\n",
      "b'f95 -O4 -mcmodel=medium  \\t  -c -o /home/giuseppe/Dropbox/research/SLKMC-code/code_jupyter_script/mulskips-source-build/initial/SetInvPwOnlySiorC.o /home/giuseppe/Dropbox/research/SLKMC-code/code_jupyter_script/mulskips-source-build/initial/SetInvPwOnlySiorC.f\\n'\n",
      "b'f95 -O4 -mcmodel=medium  \\t  -c -o /home/giuseppe/Dropbox/research/SLKMC-code/code_jupyter_script/mulskips-source-build/initial/SetTrench.o /home/giuseppe/Dropbox/research/SLKMC-code/code_jupyter_script/mulskips-source-build/initial/SetTrench.f\\n'\n",
      "b'f95 -O4 -mcmodel=medium  \\t  -c -o /home/giuseppe/Dropbox/research/SLKMC-code/code_jupyter_script/mulskips-source-build/initial/SetAPBSymZimb.o /home/giuseppe/Dropbox/research/SLKMC-code/code_jupyter_script/mulskips-source-build/initial/SetAPBSymZimb.f\\n'\n",
      "b'f95 -O4 -mcmodel=medium  \\t  -c -o /home/giuseppe/Dropbox/research/SLKMC-code/code_jupyter_script/mulskips-source-build/initial/SetInvPSi.o /home/giuseppe/Dropbox/research/SLKMC-code/code_jupyter_script/mulskips-source-build/initial/SetInvPSi.f\\n'\n"
     ]
    },
    {
     "name": "stdout",
     "output_type": "stream",
     "text": [
      "b'f95 -O4 -mcmodel=medium  \\t  -c -o /home/giuseppe/Dropbox/research/SLKMC-code/code_jupyter_script/mulskips-source-build/initial/SetNC.o /home/giuseppe/Dropbox/research/SLKMC-code/code_jupyter_script/mulskips-source-build/initial/SetNC.f\\n'\n",
      "b'f95 -O4 -mcmodel=medium  \\t  -c -o /home/giuseppe/Dropbox/research/SLKMC-code/code_jupyter_script/mulskips-source-build/inpout/FileClose.o /home/giuseppe/Dropbox/research/SLKMC-code/code_jupyter_script/mulskips-source-build/inpout/FileClose.f\\n'\n",
      "b'f95 -O4 -mcmodel=medium  \\t  -c -o /home/giuseppe/Dropbox/research/SLKMC-code/code_jupyter_script/mulskips-source-build/inpout/GetOutputFileName.o /home/giuseppe/Dropbox/research/SLKMC-code/code_jupyter_script/mulskips-source-build/inpout/GetOutputFileName.f\\n'\n",
      "b'f95 -O4 -mcmodel=medium  \\t  -c -o /home/giuseppe/Dropbox/research/SLKMC-code/code_jupyter_script/mulskips-source-build/inpout/WriteMolMolXYZFile.o /home/giuseppe/Dropbox/research/SLKMC-code/code_jupyter_script/mulskips-source-build/inpout/WriteMolMolXYZFile.f\\n'\n",
      "b'f95 -O4 -mcmodel=medium  \\t  -c -o /home/giuseppe/Dropbox/research/SLKMC-code/code_jupyter_script/mulskips-source-build/inpout/FileOpen.o /home/giuseppe/Dropbox/research/SLKMC-code/code_jupyter_script/mulskips-source-build/inpout/FileOpen.f\\n'\n",
      "b'f95 -O4 -mcmodel=medium  \\t  -c -o /home/giuseppe/Dropbox/research/SLKMC-code/code_jupyter_script/mulskips-source-build/inpout/WriteMolMolSource.o /home/giuseppe/Dropbox/research/SLKMC-code/code_jupyter_script/mulskips-source-build/inpout/WriteMolMolSource.f\\n'\n",
      "b'f95 -O4 -mcmodel=medium  \\t  -c -o /home/giuseppe/Dropbox/research/SLKMC-code/code_jupyter_script/mulskips-source-build/lattice/FIND_NN.o /home/giuseppe/Dropbox/research/SLKMC-code/code_jupyter_script/mulskips-source-build/lattice/FIND_NN.f\\n'\n",
      "b'f95 -O4 -mcmodel=medium  \\t  -c -o /home/giuseppe/Dropbox/research/SLKMC-code/code_jupyter_script/mulskips-source-build/lattice/FIND_SN.o /home/giuseppe/Dropbox/research/SLKMC-code/code_jupyter_script/mulskips-source-build/lattice/FIND_SN.f\\n'\n",
      "b'f95 -O4 -mcmodel=medium  \\t  -c -o /home/giuseppe/Dropbox/research/SLKMC-code/code_jupyter_script/mulskips-source-build/mcevent/Add.o /home/giuseppe/Dropbox/research/SLKMC-code/code_jupyter_script/mulskips-source-build/mcevent/Add.f\\n'\n",
      "b'f95 -O4 -mcmodel=medium  \\t  -c -o /home/giuseppe/Dropbox/research/SLKMC-code/code_jupyter_script/mulskips-source-build/mcevent/Evaporation.o /home/giuseppe/Dropbox/research/SLKMC-code/code_jupyter_script/mulskips-source-build/mcevent/Evaporation.f\\n'\n",
      "b'f95 -O4 -mcmodel=medium  \\t  -c -o /home/giuseppe/Dropbox/research/SLKMC-code/code_jupyter_script/mulskips-source-build/mcevent/PickTreeEvent.o /home/giuseppe/Dropbox/research/SLKMC-code/code_jupyter_script/mulskips-source-build/mcevent/PickTreeEvent.f\\n'\n",
      "b'f95 -O4 -mcmodel=medium  \\t  -c -o /home/giuseppe/Dropbox/research/SLKMC-code/code_jupyter_script/mulskips-source-build/mcevent/UpdateTree.o /home/giuseppe/Dropbox/research/SLKMC-code/code_jupyter_script/mulskips-source-build/mcevent/UpdateTree.f\\n'\n",
      "b'f95 -O4 -mcmodel=medium  \\t  -c -o /home/giuseppe/Dropbox/research/SLKMC-code/code_jupyter_script/mulskips-source-build/mcevent/AllocateArrays.o /home/giuseppe/Dropbox/research/SLKMC-code/code_jupyter_script/mulskips-source-build/mcevent/AllocateArrays.f\\n'\n",
      "b'f95 -O4 -mcmodel=medium  \\t  -c -o /home/giuseppe/Dropbox/research/SLKMC-code/code_jupyter_script/mulskips-source-build/mcevent/Get_Prob.o /home/giuseppe/Dropbox/research/SLKMC-code/code_jupyter_script/mulskips-source-build/mcevent/Get_Prob.f\\n'\n",
      "b'f95 -O4 -mcmodel=medium  \\t  -c -o /home/giuseppe/Dropbox/research/SLKMC-code/code_jupyter_script/mulskips-source-build/mcevent/random.o /home/giuseppe/Dropbox/research/SLKMC-code/code_jupyter_script/mulskips-source-build/mcevent/random.f\\n'\n",
      "b'f95 -O4 -mcmodel=medium  \\t  -c -o /home/giuseppe/Dropbox/research/SLKMC-code/code_jupyter_script/mulskips-source-build/mcevent/deposition.o /home/giuseppe/Dropbox/research/SLKMC-code/code_jupyter_script/mulskips-source-build/mcevent/deposition.f\\n'\n",
      "b'f95 -O4 -mcmodel=medium  \\t  -c -o /home/giuseppe/Dropbox/research/SLKMC-code/code_jupyter_script/mulskips-source-build/mcevent/Get_Prob_Ini.o /home/giuseppe/Dropbox/research/SLKMC-code/code_jupyter_script/mulskips-source-build/mcevent/Get_Prob_Ini.f\\n'\n",
      "b'f95 -O4 -mcmodel=medium  \\t  -c -o /home/giuseppe/Dropbox/research/SLKMC-code/code_jupyter_script/mulskips-source-build/mcevent/SetProbability.o /home/giuseppe/Dropbox/research/SLKMC-code/code_jupyter_script/mulskips-source-build/mcevent/SetProbability.f\\n'\n",
      "b'f95 -O4 -mcmodel=medium  \\t  -c -o /home/giuseppe/Dropbox/research/SLKMC-code/code_jupyter_script/mulskips-source-build/mcevent/Erase.o /home/giuseppe/Dropbox/research/SLKMC-code/code_jupyter_script/mulskips-source-build/mcevent/Erase.f\\n'\n",
      "b'f95 -O4 -mcmodel=medium  \\t  -c -o /home/giuseppe/Dropbox/research/SLKMC-code/code_jupyter_script/mulskips-source-build/mcevent/IF_Arm_Choice.o /home/giuseppe/Dropbox/research/SLKMC-code/code_jupyter_script/mulskips-source-build/mcevent/IF_Arm_Choice.f\\n'\n",
      "b'f95 -O4 -mcmodel=medium  \\t  -c -o /home/giuseppe/Dropbox/research/SLKMC-code/code_jupyter_script/mulskips-source-build/mcevent/UpdateCoor.o /home/giuseppe/Dropbox/research/SLKMC-code/code_jupyter_script/mulskips-source-build/mcevent/UpdateCoor.f\\n'\n",
      "b'f95 -O4 -mcmodel=medium  \\t  -c -o main.o main.f\\n'\n",
      "b'single file...\\n'\n",
      "b'Now compiling...\\n'\n",
      "b'f95  -O4 -mcmodel=medium  \\t /home/giuseppe/Dropbox/research/SLKMC-code/code_jupyter_script/mulskips-source-build/modules/defdertype.o /home/giuseppe/Dropbox/research/SLKMC-code/code_jupyter_script/mulskips-source-build/modules/defsystem.o /home/giuseppe/Dropbox/research/SLKMC-code/code_jupyter_script/mulskips-source-build/modules/definitions.o /home/giuseppe/Dropbox/research/SLKMC-code/code_jupyter_script/mulskips-source-build/initial/SetAPB.o /home/giuseppe/Dropbox/research/SLKMC-code/code_jupyter_script/mulskips-source-build/initial/SetInvPC.o /home/giuseppe/Dropbox/research/SLKMC-code/code_jupyter_script/mulskips-source-build/initial/SetInvPwAPB.o /home/giuseppe/Dropbox/research/SLKMC-code/code_jupyter_script/mulskips-source-build/initial/SetNCSp.o /home/giuseppe/Dropbox/research/SLKMC-code/code_jupyter_script/mulskips-source-build/initial/SetAPBSym.o /home/giuseppe/Dropbox/research/SLKMC-code/code_jupyter_script/mulskips-source-build/initial/SetInvP.o /home/giuseppe/Dropbox/research/SLKMC-code/code_jupyter_script/mulskips-source-build/initial/SetInvPwOnlyCorSi.o /home/giuseppe/Dropbox/research/SLKMC-code/code_jupyter_script/mulskips-source-build/initial/SetSiC3C.o /home/giuseppe/Dropbox/research/SLKMC-code/code_jupyter_script/mulskips-source-build/initial/SetAPBSymZimb1.o /home/giuseppe/Dropbox/research/SLKMC-code/code_jupyter_script/mulskips-source-build/initial/SetInvPOff.o /home/giuseppe/Dropbox/research/SLKMC-code/code_jupyter_script/mulskips-source-build/initial/SetInvPwOnlySiorC.o /home/giuseppe/Dropbox/research/SLKMC-code/code_jupyter_script/mulskips-source-build/initial/SetTrench.o /home/giuseppe/Dropbox/research/SLKMC-code/code_jupyter_script/mulskips-source-build/initial/SetAPBSymZimb.o /home/giuseppe/Dropbox/research/SLKMC-code/code_jupyter_script/mulskips-source-build/initial/SetInvPSi.o /home/giuseppe/Dropbox/research/SLKMC-code/code_jupyter_script/mulskips-source-build/initial/SetNC.o /home/giuseppe/Dropbox/research/SLKMC-code/code_jupyter_script/mulskips-source-build/inpout/FileClose.o /home/giuseppe/Dropbox/research/SLKMC-code/code_jupyter_script/mulskips-source-build/inpout/GetOutputFileName.o /home/giuseppe/Dropbox/research/SLKMC-code/code_jupyter_script/mulskips-source-build/inpout/WriteMolMolXYZFile.o /home/giuseppe/Dropbox/research/SLKMC-code/code_jupyter_script/mulskips-source-build/inpout/FileOpen.o /home/giuseppe/Dropbox/research/SLKMC-code/code_jupyter_script/mulskips-source-build/inpout/WriteMolMolSource.o /home/giuseppe/Dropbox/research/SLKMC-code/code_jupyter_script/mulskips-source-build/lattice/FIND_NN.o /home/giuseppe/Dropbox/research/SLKMC-code/code_jupyter_script/mulskips-source-build/lattice/FIND_SN.o /home/giuseppe/Dropbox/research/SLKMC-code/code_jupyter_script/mulskips-source-build/mcevent/Add.o /home/giuseppe/Dropbox/research/SLKMC-code/code_jupyter_script/mulskips-source-build/mcevent/Evaporation.o /home/giuseppe/Dropbox/research/SLKMC-code/code_jupyter_script/mulskips-source-build/mcevent/PickTreeEvent.o /home/giuseppe/Dropbox/research/SLKMC-code/code_jupyter_script/mulskips-source-build/mcevent/UpdateTree.o /home/giuseppe/Dropbox/research/SLKMC-code/code_jupyter_script/mulskips-source-build/mcevent/AllocateArrays.o /home/giuseppe/Dropbox/research/SLKMC-code/code_jupyter_script/mulskips-source-build/mcevent/Get_Prob.o /home/giuseppe/Dropbox/research/SLKMC-code/code_jupyter_script/mulskips-source-build/mcevent/random.o /home/giuseppe/Dropbox/research/SLKMC-code/code_jupyter_script/mulskips-source-build/mcevent/deposition.o /home/giuseppe/Dropbox/research/SLKMC-code/code_jupyter_script/mulskips-source-build/mcevent/Get_Prob_Ini.o /home/giuseppe/Dropbox/research/SLKMC-code/code_jupyter_script/mulskips-source-build/mcevent/SetProbability.o /home/giuseppe/Dropbox/research/SLKMC-code/code_jupyter_script/mulskips-source-build/mcevent/Erase.o /home/giuseppe/Dropbox/research/SLKMC-code/code_jupyter_script/mulskips-source-build/mcevent/IF_Arm_Choice.o /home/giuseppe/Dropbox/research/SLKMC-code/code_jupyter_script/mulskips-source-build/mcevent/UpdateCoor.o main.o -o /home/giuseppe/Dropbox/research/SLKMC-code/code_jupyter_script/mulskips-source-build/mulskips.e # -L /opt/intel/mkl/10.0.1.014/lib/em64t -lmkl_solver -lmkl_lapack -lmkl_em64t -lmkl -lguide -lpthread \\n'\n"
     ]
    }
   ],
   "source": [
    "# compile the mulskips code in the mulskips-source directory\n",
    "\n",
    "import sys\n",
    "import subprocess\n",
    "\n",
    "mydir_new = os.chdir(dest) # change the current working directory to the mulskips-source\n",
    "\n",
    "# execute 'make clean' command within the mulskips-source directory\n",
    "make_process = subprocess.Popen(\"make clean all;\", shell=True, stdout=subprocess.PIPE)\n",
    "while True:\n",
    "    line = make_process.stdout.readline()\n",
    "    if not line:break\n",
    "    print(line) #output to console in time\n",
    "    sys.stdout.flush()\n",
    "\n",
    "# execute 'make' command which genetare the executable mulskips.e within the mulskips-source directory\n",
    "make_process = subprocess.Popen(\"make;\", shell=True, stdout=subprocess.PIPE)\n",
    "while True:\n",
    "    line = make_process.stdout.readline()\n",
    "    if not line:break\n",
    "    print(line) #output to console in time\n",
    "    sys.stdout.flush()\n",
    "\n",
    "mydir_new = os.chdir(path) # change the current working directory"
   ]
  },
  {
   "cell_type": "code",
   "execution_count": 57,
   "metadata": {},
   "outputs": [
    {
     "name": "stdout",
     "output_type": "stream",
     "text": [
      "The current working directory is /home/giuseppe/Dropbox/research/SLKMC-code/code_jupyter_script\n"
     ]
    }
   ],
   "source": [
    "# detect the current working directory and print it\n",
    "currpath = os.getcwd()\n",
    "print (\"The current working directory is %s\" % currpath)"
   ]
  },
  {
   "cell_type": "markdown",
   "metadata": {},
   "source": [
    "# Run the MulSKPIS code"
   ]
  },
  {
   "cell_type": "code",
   "execution_count": 58,
   "metadata": {},
   "outputs": [
    {
     "name": "stdout",
     "output_type": "stream",
     "text": [
      "Successfully created the directory /home/giuseppe/Dropbox/research/SLKMC-code/code_jupyter_script \n"
     ]
    }
   ],
   "source": [
    "# create the directory run_name where to run the mulskips code\n",
    "rundir=path+'/'+run_name\n",
    "try:\n",
    "    os.mkdir(rundir)\n",
    "except OSError:\n",
    "    print (\"Creation of the directory %s failed\" % path)\n",
    "else:\n",
    "    print (\"Successfully created the directory %s \" % path)"
   ]
  },
  {
   "cell_type": "code",
   "execution_count": 59,
   "metadata": {},
   "outputs": [
    {
     "data": {
      "text/plain": [
       "'printing done'"
      ]
     },
     "execution_count": 59,
     "metadata": {},
     "output_type": "execute_result"
    }
   ],
   "source": [
    "# copy the start.dat file within the rundir directory\n",
    "mydir_new = os.chdir(rundir)\n",
    "print_file_input(filename,PtransE_Si,PtransE_C,PtransD,PtransZig,Simulation,Seed_box)"
   ]
  },
  {
   "cell_type": "code",
   "execution_count": 60,
   "metadata": {
    "collapsed": true
   },
   "outputs": [],
   "source": [
    "# execute the mulskips.e program with the input file start.dat\n",
    "make_process = subprocess.Popen(\"mulskips.e;\", shell=True, stdout=subprocess.PIPE)\n",
    "while True:\n",
    "    line = make_process.stdout.readline()\n",
    "    if not line:break\n",
    "    print(line) #output to console in time\n",
    "    sys.stdout.flush()"
   ]
  },
  {
   "cell_type": "code",
   "execution_count": null,
   "metadata": {
    "collapsed": true
   },
   "outputs": [],
   "source": []
  }
 ],
 "metadata": {
  "kernelspec": {
   "display_name": "Python 3",
   "language": "python",
   "name": "python3"
  },
  "language_info": {
   "codemirror_mode": {
    "name": "ipython",
    "version": 3
   },
   "file_extension": ".py",
   "mimetype": "text/x-python",
   "name": "python",
   "nbconvert_exporter": "python",
   "pygments_lexer": "ipython3",
   "version": "3.6.11"
  },
  "varInspector": {
   "cols": {
    "lenName": 16,
    "lenType": 16,
    "lenVar": 40
   },
   "kernels_config": {
    "python": {
     "delete_cmd_postfix": "",
     "delete_cmd_prefix": "del ",
     "library": "var_list.py",
     "varRefreshCmd": "print(var_dic_list())"
    },
    "r": {
     "delete_cmd_postfix": ") ",
     "delete_cmd_prefix": "rm(",
     "library": "var_list.r",
     "varRefreshCmd": "cat(var_dic_list()) "
    }
   },
   "types_to_exclude": [
    "module",
    "function",
    "builtin_function_or_method",
    "instance",
    "_Feature"
   ],
   "window_display": false
  }
 },
 "nbformat": 4,
 "nbformat_minor": 2
}
